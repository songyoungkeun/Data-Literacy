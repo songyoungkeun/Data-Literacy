{
 "cells": [
  {
   "cell_type": "markdown",
   "id": "800a848f",
   "metadata": {},
   "source": [
    "### 자료형의 참과 거짓\n",
    "- 문자열 : \"\"안에 data가 없으면 False, data가 있으면 True\n",
    "- 리스트 : [] ---> \n",
    "- 튜플   : () ---> \n",
    "- 딕셔너리 : {} --> \n",
    "- 숫자 : 0이면 False, 0이 아닌 숫자는 True "
   ]
  },
  {
   "cell_type": "code",
   "execution_count": 1,
   "id": "92aeb5f5",
   "metadata": {},
   "outputs": [
    {
     "name": "stdout",
     "output_type": "stream",
     "text": [
      "4\n",
      "3\n",
      "2\n",
      "1\n",
      "0\n"
     ]
    }
   ],
   "source": [
    "# 리스트형에서 자료 출력하면서 자료 지우기\n",
    "var = [0,1,2,3,4]\n",
    "\n",
    "while var:\n",
    "    print(var.pop())"
   ]
  },
  {
   "cell_type": "code",
   "execution_count": 2,
   "id": "7d1d3ac8",
   "metadata": {},
   "outputs": [
    {
     "data": {
      "text/plain": [
       "[]"
      ]
     },
     "execution_count": 2,
     "metadata": {},
     "output_type": "execute_result"
    }
   ],
   "source": [
    "var"
   ]
  },
  {
   "cell_type": "code",
   "execution_count": 3,
   "id": "c2abc4e7",
   "metadata": {},
   "outputs": [
    {
     "name": "stdout",
     "output_type": "stream",
     "text": [
      "1 2\n"
     ]
    }
   ],
   "source": [
    "# 튜플을 이용한 변수 생성\n",
    "var01, var02 = 1, 2\n",
    "print(var01, var02)"
   ]
  },
  {
   "cell_type": "code",
   "execution_count": 4,
   "id": "018e06d7",
   "metadata": {},
   "outputs": [
    {
     "name": "stdout",
     "output_type": "stream",
     "text": [
      "1 2 1\n"
     ]
    }
   ],
   "source": [
    "# 변수 초기값 정의\n",
    "var01 = var02 = var03 = 1\n",
    "var02 = 2\n",
    "\n",
    "print(var01, var02, var03)"
   ]
  },
  {
   "cell_type": "markdown",
   "id": "205d73f4",
   "metadata": {},
   "source": [
    "### Collection(List)에서 data 복사하기"
   ]
  },
  {
   "cell_type": "code",
   "execution_count": 5,
   "id": "170e4679",
   "metadata": {},
   "outputs": [
    {
     "name": "stdout",
     "output_type": "stream",
     "text": [
      "[1, 2, 3]\n",
      "[1, 4, 3]\n"
     ]
    }
   ],
   "source": [
    "# Method 1\n",
    "var01 = [1,2,3]\n",
    "var02 = var01.copy()\n",
    "var02[1] = 4\n",
    "print(var01)\n",
    "print(var02)"
   ]
  },
  {
   "cell_type": "code",
   "execution_count": 6,
   "id": "042f381a",
   "metadata": {},
   "outputs": [
    {
     "name": "stdout",
     "output_type": "stream",
     "text": [
      "[1, 2, 3]\n",
      "[1, 4, 3]\n"
     ]
    }
   ],
   "source": [
    "# Method 2\n",
    "var01 = [1,2,3]\n",
    "var02 = var01[:]\n",
    "var02[1] = 4\n",
    "print(var01)\n",
    "print(var02)"
   ]
  },
  {
   "cell_type": "code",
   "execution_count": 7,
   "id": "4f9effbf",
   "metadata": {},
   "outputs": [
    {
     "name": "stdout",
     "output_type": "stream",
     "text": [
      "[1, 2, 3]\n",
      "[1, 4, 3]\n"
     ]
    }
   ],
   "source": [
    "# Method 3\n",
    "from copy import copy\n",
    "\n",
    "var01 = [1,2,3]\n",
    "var02 = copy(var01)\n",
    "var02[1] = 4\n",
    "print(var01)\n",
    "print(var02)"
   ]
  },
  {
   "cell_type": "markdown",
   "id": "d344a980",
   "metadata": {},
   "source": [
    "### Type 변환"
   ]
  },
  {
   "cell_type": "code",
   "execution_count": 13,
   "id": "354fa53b",
   "metadata": {},
   "outputs": [
    {
     "name": "stdout",
     "output_type": "stream",
     "text": [
      "<class 'str'>\n",
      "<class 'int'>\n"
     ]
    }
   ],
   "source": [
    "# 문자열을 정수로 변환하기\n",
    "str_num = '123'\n",
    "print(type(str_num))\n",
    "\n",
    "int_num = int(str_num)\n",
    "print(type(int_num))"
   ]
  },
  {
   "cell_type": "code",
   "execution_count": 14,
   "id": "8a63d7d2",
   "metadata": {},
   "outputs": [
    {
     "data": {
      "text/plain": [
       "123.456"
      ]
     },
     "execution_count": 14,
     "metadata": {},
     "output_type": "execute_result"
    }
   ],
   "source": [
    "# 문자열을 실수로 변환하기\n",
    "str_num = \"123.456\"\n",
    "float(str_num)"
   ]
  },
  {
   "cell_type": "code",
   "execution_count": 15,
   "id": "7346ccc7",
   "metadata": {},
   "outputs": [
    {
     "data": {
      "text/plain": [
       "'123'"
      ]
     },
     "execution_count": 15,
     "metadata": {},
     "output_type": "execute_result"
    }
   ],
   "source": [
    "# 정수를 문자로 변환\n",
    "int_num = 123\n",
    "str(int_num)"
   ]
  },
  {
   "cell_type": "code",
   "execution_count": 16,
   "id": "807862ea",
   "metadata": {},
   "outputs": [
    {
     "data": {
      "text/plain": [
       "'123.456'"
      ]
     },
     "execution_count": 16,
     "metadata": {},
     "output_type": "execute_result"
    }
   ],
   "source": [
    "# 실수를 문자로 변환\n",
    "float_num = 123.456\n",
    "str(float_num)"
   ]
  },
  {
   "cell_type": "code",
   "execution_count": 18,
   "id": "22ec419d",
   "metadata": {},
   "outputs": [
    {
     "data": {
      "text/plain": [
       "123"
      ]
     },
     "execution_count": 18,
     "metadata": {},
     "output_type": "execute_result"
    }
   ],
   "source": [
    "# 실수를 정수로 변환\n",
    "float_num = 123.756\n",
    "int(float_num)"
   ]
  },
  {
   "cell_type": "code",
   "execution_count": null,
   "id": "e0509a77",
   "metadata": {},
   "outputs": [],
   "source": []
  }
 ],
 "metadata": {
  "kernelspec": {
   "display_name": "base",
   "language": "python",
   "name": "python3"
  },
  "language_info": {
   "codemirror_mode": {
    "name": "ipython",
    "version": 3
   },
   "file_extension": ".py",
   "mimetype": "text/x-python",
   "name": "python",
   "nbconvert_exporter": "python",
   "pygments_lexer": "ipython3",
   "version": "3.12.7"
  }
 },
 "nbformat": 4,
 "nbformat_minor": 5
}
