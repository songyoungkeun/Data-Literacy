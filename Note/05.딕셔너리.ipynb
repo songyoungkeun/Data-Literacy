{
 "cells": [
  {
   "cell_type": "markdown",
   "id": "891b1f09",
   "metadata": {},
   "source": [
    "### 딕셔너리(Dictionary)\n",
    ": List나 Tuple처럼 index로 처리하지 않고 key를 통해 value를 처리"
   ]
  },
  {
   "cell_type": "code",
   "execution_count": 2,
   "id": "ad2e29c3",
   "metadata": {},
   "outputs": [
    {
     "data": {
      "text/plain": [
       "{'name': 'petty', 'phone': '010-1111-2222', 'birth': '1231'}"
      ]
     },
     "execution_count": 2,
     "metadata": {},
     "output_type": "execute_result"
    }
   ],
   "source": [
    "# 생성하기\n",
    "\n",
    "dic = {\n",
    "    'name' : 'petty',\n",
    "    'phone' : '010-1111-2222',\n",
    "    'birth' : '1231'\n",
    "}\n",
    "dic"
   ]
  },
  {
   "cell_type": "markdown",
   "id": "61b0f7b9",
   "metadata": {},
   "source": [
    "### Dictionary 사용하기"
   ]
  },
  {
   "cell_type": "code",
   "execution_count": 4,
   "id": "0b4d6d09",
   "metadata": {},
   "outputs": [
    {
     "name": "stdout",
     "output_type": "stream",
     "text": [
      "petty\n",
      "010-1111-2222\n"
     ]
    }
   ],
   "source": [
    "print(dic['name'])\n",
    "print(dic['phone'])"
   ]
  },
  {
   "cell_type": "code",
   "execution_count": 5,
   "id": "e3a0d6e0",
   "metadata": {},
   "outputs": [
    {
     "data": {
      "text/plain": [
       "{'a': [1, 2, 3], 'b': [4, 5, 6]}"
      ]
     },
     "execution_count": 5,
     "metadata": {},
     "output_type": "execute_result"
    }
   ],
   "source": [
    "# Dictonary의 value(data)가 List인 경우\n",
    "\n",
    "dic = {\n",
    "    'a' : [1,2,3],\n",
    "    'b' : [4,5,6]\n",
    "}\n",
    "dic"
   ]
  },
  {
   "cell_type": "code",
   "execution_count": 7,
   "id": "43f93159",
   "metadata": {},
   "outputs": [
    {
     "data": {
      "text/plain": [
       "1"
      ]
     },
     "execution_count": 7,
     "metadata": {},
     "output_type": "execute_result"
    }
   ],
   "source": [
    "# dic에서 1만 추출하기\n",
    "dic['a'][0]"
   ]
  },
  {
   "cell_type": "code",
   "execution_count": 8,
   "id": "b318b8e0",
   "metadata": {},
   "outputs": [
    {
     "data": {
      "text/plain": [
       "{'a': [1, 2, 3], 'b': [4, 5, 6], 'name': 'petty'}"
      ]
     },
     "execution_count": 8,
     "metadata": {},
     "output_type": "execute_result"
    }
   ],
   "source": [
    "# dic에 data 추가하기\n",
    "dic['name'] = 'petty'\n",
    "dic"
   ]
  },
  {
   "cell_type": "code",
   "execution_count": 9,
   "id": "7d88a801",
   "metadata": {},
   "outputs": [
    {
     "data": {
      "text/plain": [
       "{'a': [1, 2, 3], 'b': [4, 5, 6], 'name': 'cathy'}"
      ]
     },
     "execution_count": 9,
     "metadata": {},
     "output_type": "execute_result"
    }
   ],
   "source": [
    "# dic에 데이터 변경하기\n",
    "dic['name'] = 'cathy'\n",
    "dic"
   ]
  },
  {
   "cell_type": "code",
   "execution_count": 10,
   "id": "1a393c5a",
   "metadata": {},
   "outputs": [
    {
     "data": {
      "text/plain": [
       "{'a': [1, 2, 3], 'name': 'cathy'}"
      ]
     },
     "execution_count": 10,
     "metadata": {},
     "output_type": "execute_result"
    }
   ],
   "source": [
    "# 삭제 하기\n",
    "del dic['b']\n",
    "dic"
   ]
  },
  {
   "cell_type": "code",
   "execution_count": 11,
   "id": "b7bab0f5",
   "metadata": {},
   "outputs": [
    {
     "data": {
      "text/plain": [
       "{}"
      ]
     },
     "execution_count": 11,
     "metadata": {},
     "output_type": "execute_result"
    }
   ],
   "source": [
    "# 완전 지우기\n",
    "dic.clear()\n",
    "dic"
   ]
  },
  {
   "cell_type": "code",
   "execution_count": 12,
   "id": "d4944d98",
   "metadata": {},
   "outputs": [],
   "source": [
    "# List에 Dic을 사용하기 (JSON)\n",
    "dic2 = [\n",
    "    {\n",
    "        '학번' : '0001',\n",
    "        '이름' : '유비'\n",
    "    },\n",
    "    {\n",
    "        '학번' : '0002',\n",
    "        '이름' : '관우'\n",
    "    }\n",
    "]"
   ]
  },
  {
   "cell_type": "code",
   "execution_count": 14,
   "id": "7028cb54",
   "metadata": {},
   "outputs": [
    {
     "data": {
      "text/plain": [
       "'유비'"
      ]
     },
     "execution_count": 14,
     "metadata": {},
     "output_type": "execute_result"
    }
   ],
   "source": [
    "dic2[0]['이름']"
   ]
  },
  {
   "cell_type": "code",
   "execution_count": 19,
   "id": "97b8faac",
   "metadata": {},
   "outputs": [
    {
     "name": "stdout",
     "output_type": "stream",
     "text": [
      "나의 이름은 홍길동이고 나이는 30세 입니다.\n"
     ]
    }
   ],
   "source": [
    "# Ex : String Interpolation(f-string)을 사용하여\n",
    "# 출력 : 나의 이름은 홍길동이고 나이는 30세 입니다. \n",
    "d = {\n",
    "    'name' : '홍길동',\n",
    "    'age' : 30\n",
    "}\n",
    "\n",
    "print(f'나의 이름은 {d['name']}이고 나이는 {d['age']}세 입니다.')"
   ]
  },
  {
   "cell_type": "code",
   "execution_count": 23,
   "id": "bfb6a23d",
   "metadata": {},
   "outputs": [
    {
     "name": "stdout",
     "output_type": "stream",
     "text": [
      "유비 1111 서울\n"
     ]
    }
   ],
   "source": [
    "# Ex : 유비의 정보만 가져오기 \n",
    "friend = {\n",
    "    '이름' : ['유비', '관우','장비'],\n",
    "    '전화번호' : ['1111','2222', '3333'],\n",
    "    '주소' : ['서울', '인천', '부산']\n",
    "}\n",
    "print(friend['이름'][0], friend['전화번호'][0], friend['주소'][0])"
   ]
  },
  {
   "cell_type": "markdown",
   "id": "6b348864",
   "metadata": {},
   "source": [
    "---\n",
    "### 객체 동일성"
   ]
  },
  {
   "cell_type": "code",
   "execution_count": 24,
   "id": "22128273",
   "metadata": {},
   "outputs": [],
   "source": [
    "list1 = ['one', 'two']\n",
    "list2 = ['one', 'two']"
   ]
  },
  {
   "cell_type": "code",
   "execution_count": 25,
   "id": "4055821e",
   "metadata": {},
   "outputs": [
    {
     "data": {
      "text/plain": [
       "False"
      ]
     },
     "execution_count": 25,
     "metadata": {},
     "output_type": "execute_result"
    }
   ],
   "source": [
    "list1 is list2"
   ]
  },
  {
   "cell_type": "code",
   "execution_count": 26,
   "id": "e19f6020",
   "metadata": {},
   "outputs": [
    {
     "data": {
      "text/plain": [
       "True"
      ]
     },
     "execution_count": 26,
     "metadata": {},
     "output_type": "execute_result"
    }
   ],
   "source": [
    "list1 == list2 "
   ]
  },
  {
   "cell_type": "code",
   "execution_count": 27,
   "id": "3c5aa592",
   "metadata": {},
   "outputs": [
    {
     "data": {
      "text/plain": [
       "True"
      ]
     },
     "execution_count": 27,
     "metadata": {},
     "output_type": "execute_result"
    }
   ],
   "source": [
    "list1[0] is list2[0]"
   ]
  },
  {
   "cell_type": "code",
   "execution_count": 28,
   "id": "3beac2f7",
   "metadata": {},
   "outputs": [
    {
     "data": {
      "text/plain": [
       "True"
      ]
     },
     "execution_count": 28,
     "metadata": {},
     "output_type": "execute_result"
    }
   ],
   "source": [
    "list1[0] == list2[0]"
   ]
  },
  {
   "cell_type": "code",
   "execution_count": 29,
   "id": "2a318cc2",
   "metadata": {},
   "outputs": [],
   "source": [
    "var01 = [1,2,3,4]\n",
    "var02 = var01"
   ]
  },
  {
   "cell_type": "code",
   "execution_count": 31,
   "id": "3cac7f6e",
   "metadata": {},
   "outputs": [
    {
     "name": "stdout",
     "output_type": "stream",
     "text": [
      "True\n",
      "True\n"
     ]
    }
   ],
   "source": [
    "print(var01 is var02)\n",
    "print(var01 == var02)"
   ]
  },
  {
   "cell_type": "code",
   "execution_count": 32,
   "id": "d73276d2",
   "metadata": {},
   "outputs": [
    {
     "name": "stdout",
     "output_type": "stream",
     "text": [
      "[10, 2, 3, 4]\n"
     ]
    }
   ],
   "source": [
    "var01[0] = 10\n",
    "print(var02)"
   ]
  },
  {
   "cell_type": "code",
   "execution_count": 33,
   "id": "37bbf656",
   "metadata": {},
   "outputs": [],
   "source": [
    "var01 = [1,2,3,4]\n",
    "var02 = var01.copy()"
   ]
  },
  {
   "cell_type": "code",
   "execution_count": 34,
   "id": "d5829858",
   "metadata": {},
   "outputs": [
    {
     "name": "stdout",
     "output_type": "stream",
     "text": [
      "False\n",
      "True\n"
     ]
    }
   ],
   "source": [
    "print(var01 is var02)\n",
    "print(var01 == var02)"
   ]
  },
  {
   "cell_type": "code",
   "execution_count": null,
   "id": "20a6c472",
   "metadata": {},
   "outputs": [],
   "source": []
  }
 ],
 "metadata": {
  "kernelspec": {
   "display_name": "base",
   "language": "python",
   "name": "python3"
  },
  "language_info": {
   "codemirror_mode": {
    "name": "ipython",
    "version": 3
   },
   "file_extension": ".py",
   "mimetype": "text/x-python",
   "name": "python",
   "nbconvert_exporter": "python",
   "pygments_lexer": "ipython3",
   "version": "3.12.7"
  }
 },
 "nbformat": 4,
 "nbformat_minor": 5
}
