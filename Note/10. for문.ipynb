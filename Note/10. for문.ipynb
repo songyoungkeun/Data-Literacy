{
 "cells": [
  {
   "cell_type": "markdown",
   "id": "2580e503",
   "metadata": {},
   "source": [
    "# for문\n",
    "### range()\n",
    ": range(시작숫자, 끝숫자+1, 증가값)"
   ]
  },
  {
   "cell_type": "code",
   "execution_count": null,
   "id": "9696b3fa",
   "metadata": {},
   "outputs": [
    {
     "name": "stdout",
     "output_type": "stream",
     "text": [
      "[0, 1, 2, 3, 4, 5, 6, 7, 8, 9, 10]\n",
      "[2, 3, 4, 5, 6, 7, 8, 9, 10]\n",
      "[0, 2, 4, 6, 8, 10]\n"
     ]
    }
   ],
   "source": [
    "print(list(range(10+1)))        # 끝숫자\n",
    "print(list(range(2, 10+1)))     # 시작, 끝숫자\n",
    "print(list(range(0, 10+1, 2)))  # 시작, 끝숫자, 증가값"
   ]
  },
  {
   "cell_type": "markdown",
   "id": "ad96b5a5",
   "metadata": {},
   "source": [
    "### for문에 range함수 적용"
   ]
  },
  {
   "cell_type": "code",
   "execution_count": null,
   "id": "6c64a2e3",
   "metadata": {},
   "outputs": [
    {
     "name": "stdout",
     "output_type": "stream",
     "text": [
      "합계 : 30\n"
     ]
    }
   ],
   "source": [
    "# 1부터 10까지 수중 짝수의 합계 구하기\n",
    "# 합계 \n",
    "total1 = 0 # 전역 변수 \n",
    "\n",
    "for i in range(1, 10+1):\n",
    "    if i % 2 == 0:\n",
    "        total1 += i \n",
    "\n",
    "print(f\"합계 : {total1}\")"
   ]
  },
  {
   "cell_type": "code",
   "execution_count": 33,
   "id": "1c5b946f",
   "metadata": {},
   "outputs": [
    {
     "name": "stdout",
     "output_type": "stream",
     "text": [
      "1 : 1.0\n",
      "2 : 1.4142135623730951\n",
      "3 : 1.7320508075688772\n",
      "4 : 2.0\n",
      "5 : 2.23606797749979\n",
      "6 : 2.449489742783178\n",
      "7 : 2.6457513110645907\n",
      "8 : 2.8284271247461903\n",
      "9 : 3.0\n",
      "10 : 3.1622776601683795\n"
     ]
    }
   ],
   "source": [
    "# Ex : 1에서 10까지의 제곱근을 출력하기\n",
    "import math\n",
    "\n",
    "for i in range(1, 10+1):\n",
    "    print(f\"{i} : {math.sqrt(i)}\")"
   ]
  },
  {
   "cell_type": "code",
   "execution_count": 39,
   "id": "623c624e",
   "metadata": {},
   "outputs": [
    {
     "name": "stdout",
     "output_type": "stream",
     "text": [
      "짝수의 합은 250,500이고 홀수의 합은 250,000 입니다.\n"
     ]
    }
   ],
   "source": [
    "# Ex : 1부터 1000까지의 홀수의 합과 짝수의 합을 각각 출력하기\n",
    "# 출력 예) 짝수의 합은 250,500이고 홀수의 합은 250,000 입니다.\n",
    "\n",
    "evenTotal = oddTotal = 0  # 누적합 변수\n",
    "\n",
    "for i in range(1, 1000+1):\n",
    "    if i % 2 == 0:\n",
    "        evenTotal += i\n",
    "    else:\n",
    "        oddTotal += i\n",
    "\n",
    "print(f\"짝수의 합은 {evenTotal:,}이고 홀수의 합은 {oddTotal:,} 입니다.\")\n"
   ]
  },
  {
   "cell_type": "code",
   "execution_count": 44,
   "id": "5bf752e4",
   "metadata": {},
   "outputs": [
    {
     "name": "stdout",
     "output_type": "stream",
     "text": [
      "3333 2000 666 4667\n"
     ]
    }
   ],
   "source": [
    "# Ex : 1부터 10000까지의 수중\n",
    "# 1) 3의 배수의 갯수 \n",
    "# 2) 5의 배수의 갯수 \n",
    "# 3) 3의 배수 이면서 5의 배수인 수의 갯수 \n",
    "# 4) 3의 배수 이거나 5의 배수인 수의 갯수 \n",
    "\n",
    "count3 = count5 = count3and5 = count3or5 = 0\n",
    "for i in range(1, 10000+1):\n",
    "    if i % 3 == 0:\n",
    "        count3 += 1\n",
    "    if i % 5 == 0:\n",
    "        count5 += 1\n",
    "    if (i % 3 == 0) and (i % 5 == 0):\n",
    "        count3and5 += 1\n",
    "    if (i % 3 == 0) or (i % 5 == 0):\n",
    "        count3or5 += 1\n",
    "\n",
    "print(count3, count5, count3and5, count3or5)\n"
   ]
  },
  {
   "cell_type": "code",
   "execution_count": 46,
   "id": "5ada5cd0",
   "metadata": {},
   "outputs": [
    {
     "data": {
      "text/plain": [
       "True"
      ]
     },
     "execution_count": 46,
     "metadata": {},
     "output_type": "execute_result"
    }
   ],
   "source": [
    "# 검증 : count3 + count5 - count3and5 = count3or5\n",
    "(count3 + count5 - count3and5) == count3or5"
   ]
  },
  {
   "cell_type": "code",
   "execution_count": 51,
   "id": "72f0b48d",
   "metadata": {},
   "outputs": [
    {
     "name": "stdout",
     "output_type": "stream",
     "text": [
      "8 X 1 = 8\n",
      "8 X 2 = 16\n",
      "8 X 3 = 24\n",
      "8 X 4 = 32\n",
      "8 X 5 = 40\n",
      "8 X 6 = 48\n",
      "8 X 7 = 56\n",
      "8 X 8 = 64\n",
      "8 X 9 = 72\n"
     ]
    }
   ],
   "source": [
    "# 구구단 8단 출력\n",
    "dan = 8\n",
    "for i in range(1, 9+1):\n",
    "    print(f\"{dan} X {i} = {dan*i}\")"
   ]
  },
  {
   "cell_type": "code",
   "execution_count": 53,
   "id": "b01f5cd6",
   "metadata": {},
   "outputs": [
    {
     "name": "stdout",
     "output_type": "stream",
     "text": [
      "7 X 2 = 14\n",
      "7 X 4 = 28\n",
      "7 X 6 = 42\n",
      "7 X 8 = 56\n"
     ]
    }
   ],
   "source": [
    "# Ex : 구구단 7단의 곱해지는 수가 짝수만 출력하기 \n",
    "# 단, 단은 변경 가능하고, if문 사용 금지\n",
    "dan = 7\n",
    "data = range(2, 9+1, 2)\n",
    "\n",
    "for i in data:\n",
    "    print(f\"{dan} X {i} = {dan*i}\")"
   ]
  },
  {
   "cell_type": "code",
   "execution_count": 55,
   "id": "11d06706",
   "metadata": {},
   "outputs": [
    {
     "name": "stdout",
     "output_type": "stream",
     "text": [
      "7 X 1 = 7\n",
      "7 X 2 = 14\n",
      "7 X 3 = 21\n",
      "7 X 4 = 28\n",
      "7 X 5 = 35\n",
      "7 X 6 = 42\n",
      "7 X 7 = 49\n",
      "7 X 8 = 56\n",
      "7 X 9 = 63\n"
     ]
    }
   ],
   "source": [
    "# Ex : 사용자로 부터 출력할 단을 입력받아 해당 단의 구구단 출력하기\n",
    "# 단을 입력하세요 : 3\n",
    "\n",
    "dan = int(input(\"단을 입력하세요 :\"))\n",
    "for i in range(1, 9+1):\n",
    "    print(f\"{dan} X {i} = {dan*i}\")"
   ]
  },
  {
   "cell_type": "code",
   "execution_count": 57,
   "id": "2a9abd20",
   "metadata": {},
   "outputs": [
    {
     "name": "stdout",
     "output_type": "stream",
     "text": [
      "---2단---\n",
      "2 X 1 = 2\n",
      "2 X 2 = 4\n",
      "2 X 3 = 6\n",
      "2 X 4 = 8\n",
      "2 X 5 = 10\n",
      "2 X 6 = 12\n",
      "2 X 7 = 14\n",
      "2 X 8 = 16\n",
      "2 X 9 = 18\n",
      "---3단---\n",
      "3 X 1 = 3\n",
      "3 X 2 = 6\n",
      "3 X 3 = 9\n",
      "3 X 4 = 12\n",
      "3 X 5 = 15\n",
      "3 X 6 = 18\n",
      "3 X 7 = 21\n",
      "3 X 8 = 24\n",
      "3 X 9 = 27\n",
      "---4단---\n",
      "4 X 1 = 4\n",
      "4 X 2 = 8\n",
      "4 X 3 = 12\n",
      "4 X 4 = 16\n",
      "4 X 5 = 20\n",
      "4 X 6 = 24\n",
      "4 X 7 = 28\n",
      "4 X 8 = 32\n",
      "4 X 9 = 36\n",
      "---5단---\n",
      "5 X 1 = 5\n",
      "5 X 2 = 10\n",
      "5 X 3 = 15\n",
      "5 X 4 = 20\n",
      "5 X 5 = 25\n",
      "5 X 6 = 30\n",
      "5 X 7 = 35\n",
      "5 X 8 = 40\n",
      "5 X 9 = 45\n",
      "---6단---\n",
      "6 X 1 = 6\n",
      "6 X 2 = 12\n",
      "6 X 3 = 18\n",
      "6 X 4 = 24\n",
      "6 X 5 = 30\n",
      "6 X 6 = 36\n",
      "6 X 7 = 42\n",
      "6 X 8 = 48\n",
      "6 X 9 = 54\n",
      "---7단---\n",
      "7 X 1 = 7\n",
      "7 X 2 = 14\n",
      "7 X 3 = 21\n",
      "7 X 4 = 28\n",
      "7 X 5 = 35\n",
      "7 X 6 = 42\n",
      "7 X 7 = 49\n",
      "7 X 8 = 56\n",
      "7 X 9 = 63\n",
      "---8단---\n",
      "8 X 1 = 8\n",
      "8 X 2 = 16\n",
      "8 X 3 = 24\n",
      "8 X 4 = 32\n",
      "8 X 5 = 40\n",
      "8 X 6 = 48\n",
      "8 X 7 = 56\n",
      "8 X 8 = 64\n",
      "8 X 9 = 72\n",
      "---9단---\n",
      "9 X 1 = 9\n",
      "9 X 2 = 18\n",
      "9 X 3 = 27\n",
      "9 X 4 = 36\n",
      "9 X 5 = 45\n",
      "9 X 6 = 54\n",
      "9 X 7 = 63\n",
      "9 X 8 = 72\n",
      "9 X 9 = 81\n"
     ]
    }
   ],
   "source": [
    "# 2단 ~ 9단 까지 출력하기\n",
    "\n",
    "for dan in range(2,9+1):\n",
    "    print(f\"---{dan}단---\")\n",
    "    for i in range(1, 9+1):\n",
    "        print(f\"{dan} X {i} = {dan*i}\")"
   ]
  },
  {
   "cell_type": "code",
   "execution_count": null,
   "id": "55d19095",
   "metadata": {},
   "outputs": [
    {
     "name": "stdout",
     "output_type": "stream",
     "text": [
      "---2단---\n",
      "2 X 2 = 4\n",
      "2 X 4 = 8\n",
      "2 X 6 = 12\n",
      "2 X 8 = 16\n",
      "---4단---\n",
      "4 X 2 = 8\n",
      "4 X 4 = 16\n",
      "4 X 6 = 24\n",
      "4 X 8 = 32\n",
      "---6단---\n",
      "6 X 2 = 12\n",
      "6 X 4 = 24\n",
      "6 X 6 = 36\n",
      "6 X 8 = 48\n",
      "---8단---\n",
      "8 X 2 = 16\n",
      "8 X 4 = 32\n",
      "8 X 6 = 48\n",
      "8 X 8 = 64\n"
     ]
    }
   ],
   "source": [
    "# Ex : 구구단 (2~9단)중 짝수단과 짝수 곱해지는 수만 출력하기\n",
    "# if문 사용하기 \n",
    "danData = range(2, 9+1)\n",
    "data = range(1, 9+1)\n",
    "\n",
    "for dan in danData:\n",
    "    if dan % 2 == 0:\n",
    "        print(f\"---{dan}단---\")\n",
    "        for i in data:\n",
    "            if i % 2 == 0:\n",
    "                print(f\"{dan} X {i} = {dan*i}\")\n",
    "\n",
    "\n"
   ]
  },
  {
   "cell_type": "code",
   "execution_count": 60,
   "id": "a378bfea",
   "metadata": {},
   "outputs": [
    {
     "name": "stdout",
     "output_type": "stream",
     "text": [
      "---2단---\n",
      "2 X 2 = 4\n",
      "2 X 4 = 8\n",
      "2 X 6 = 12\n",
      "2 X 8 = 16\n",
      "---4단---\n",
      "4 X 2 = 8\n",
      "4 X 4 = 16\n",
      "4 X 6 = 24\n",
      "4 X 8 = 32\n",
      "---6단---\n",
      "6 X 2 = 12\n",
      "6 X 4 = 24\n",
      "6 X 6 = 36\n",
      "6 X 8 = 48\n",
      "---8단---\n",
      "8 X 2 = 16\n",
      "8 X 4 = 32\n",
      "8 X 6 = 48\n",
      "8 X 8 = 64\n"
     ]
    }
   ],
   "source": [
    "# Ex : 구구단 (2~9단)중 짝수단과 짝수 곱해지는 수만 출력하기\n",
    "# if문 사용 안하기 \n",
    "danData = range(2, 9+1, 2)\n",
    "data = range(2, 9+1, 2)\n",
    "\n",
    "for dan in danData:\n",
    "    print(f\"---{dan}단---\")\n",
    "    for i in data:\n",
    "        print(f\"{dan} X {i} = {dan*i}\")\n",
    "\n",
    "\n"
   ]
  },
  {
   "cell_type": "code",
   "execution_count": 71,
   "id": "6ed17bf6",
   "metadata": {},
   "outputs": [
    {
     "name": "stdout",
     "output_type": "stream",
     "text": [
      "3\n",
      "7\n",
      "11\n"
     ]
    }
   ],
   "source": [
    "# for문에 Tuple을 함께 사용하기\n",
    "data = [(1,2), (3,4), (5,6)]\n",
    "\n",
    "for first, last in data:\n",
    "    print(first + last)\n"
   ]
  },
  {
   "cell_type": "code",
   "execution_count": 72,
   "id": "b6d1734d",
   "metadata": {},
   "outputs": [],
   "source": [
    "# 총 5명의 학생이 시험을 보았는데 시험점수가 60점을 넘으면 합격이고\n",
    "# 그렇지 않으면 불합격이다. \n",
    "# 합격 불합격 보여주기\n",
    "scores = [90, 25, 57, 45, 80]"
   ]
  },
  {
   "cell_type": "code",
   "execution_count": 77,
   "id": "f7bf861d",
   "metadata": {},
   "outputs": [
    {
     "name": "stdout",
     "output_type": "stream",
     "text": [
      "1번의 학생은 합격입니다.\n",
      "2번의 학생은 불합격입니다.\n",
      "3번의 학생은 불합격입니다.\n",
      "4번의 학생은 불합격입니다.\n",
      "5번의 학생은 합격입니다.\n"
     ]
    }
   ],
   "source": [
    "# index를 사용한 반복\n",
    "result = \"\"\n",
    "for i in range(len(scores)):\n",
    "    if scores[i] >= 60:\n",
    "        result = \"합격\"\n",
    "    else:\n",
    "        result = \"불합격\"\n",
    "    print(f\"{i+1}번의 학생은 {result}입니다.\")\n",
    "    \n",
    "    "
   ]
  },
  {
   "cell_type": "code",
   "execution_count": null,
   "id": "b96eadc7",
   "metadata": {},
   "outputs": [
    {
     "name": "stdout",
     "output_type": "stream",
     "text": [
      "1번의 학생은 합격입니다.\n",
      "2번의 학생은 불합격입니다.\n",
      "3번의 학생은 불합격입니다.\n",
      "4번의 학생은 불합격입니다.\n",
      "5번의 학생은 합격입니다.\n"
     ]
    }
   ],
   "source": [
    "# data를 사용한 반복\n",
    "result = \"\"\n",
    "number = 0\n",
    "for score in scores:\n",
    "    number += 1\n",
    "    if score >= 60:\n",
    "        result = \"합격\"\n",
    "    else:\n",
    "        result = \"불합격\"\n",
    "    print(f\"{number}번의 학생은 {result}입니다.\")"
   ]
  },
  {
   "cell_type": "code",
   "execution_count": 80,
   "id": "df24a885",
   "metadata": {},
   "outputs": [
    {
     "name": "stdout",
     "output_type": "stream",
     "text": [
      "1번의 학생은 점수가 90 이므로 합격입니다.\n",
      "2번의 학생은 점수가 25 이어서 불합격입니다.\n",
      "3번의 학생은 점수가 57 이어서 불합격입니다.\n",
      "4번의 학생은 점수가 45 이어서 불합격입니다.\n",
      "5번의 학생은 점수가 80 이므로 합격입니다.\n"
     ]
    }
   ],
   "source": [
    "# data를 사용한 반복\n",
    "scores = [90, 25, 57, 45, 80]\n",
    "result = \"\"\n",
    "number = 0\n",
    "for score in scores:\n",
    "    number += 1\n",
    "    if score >= 60:\n",
    "        result = \"이므로 합격\"\n",
    "    else:\n",
    "        result = \"이어서 불합격\"\n",
    "    print(f\"{number}번의 학생은 점수가 {score} {result}입니다.\")"
   ]
  },
  {
   "cell_type": "code",
   "execution_count": 84,
   "id": "0ea6eaf3",
   "metadata": {},
   "outputs": [
    {
     "name": "stdout",
     "output_type": "stream",
     "text": [
      "1번의 학생은 점수가 90 이므로 합격 입니다.\n",
      "2번의 학생은 점수가 25 이어서 불합격 입니다.\n",
      "3번의 학생은 점수가 57 이어서 불합격 입니다.\n",
      "4번의 학생은 점수가 45 이어서 불합격 입니다.\n",
      "5번의 학생은 점수가 80 이므로 합격 입니다.\n"
     ]
    }
   ],
   "source": [
    "# Ex\n",
    "scores = [90, 25, 57, 45, 80]\n",
    "number = 1\n",
    "for score in scores:\n",
    "    print(f\"{number}번의 학생은 점수가 {score} {\"이므로 합격\" if score >= 60 else \"이어서 불합격\"} 입니다.\")\n",
    "    number += 1"
   ]
  },
  {
   "cell_type": "code",
   "execution_count": 85,
   "id": "3c59b203",
   "metadata": {},
   "outputs": [
    {
     "name": "stdout",
     "output_type": "stream",
     "text": [
      "1번의 학생은 점수가 90 이므로 합격 입니다.\n",
      "2번의 학생은 점수가 25 이어서 불합격 입니다.\n",
      "3번의 학생은 점수가 57 이어서 불합격 입니다.\n",
      "4번의 학생은 점수가 45 이어서 불합격 입니다.\n",
      "5번의 학생은 점수가 80 이므로 합격 입니다.\n"
     ]
    }
   ],
   "source": [
    "# Ex : 학생들 점수의 평균을 구해서\n",
    "# 평균이상이면 합격, 아니면 불합격\n",
    "import numpy as np\n",
    "\n",
    "scores = [90, 25, 57, 45, 80]\n",
    "number = 1\n",
    "for score in scores:\n",
    "    print(f\"{number}번의 학생은 점수가 {score} {\"이므로 합격\" if score >= np.mean(scores) else \"이어서 불합격\"} 입니다.\")\n",
    "    number += 1"
   ]
  },
  {
   "cell_type": "code",
   "execution_count": 86,
   "id": "a6c1864a",
   "metadata": {},
   "outputs": [
    {
     "name": "stdout",
     "output_type": "stream",
     "text": [
      "1의 학생은 합격 입니다.\n",
      "5의 학생은 합격 입니다.\n"
     ]
    }
   ],
   "source": [
    "# Ex : 점수가 60점 이상으로 합격인 학생만 출력하기\n",
    "# 출력 예)\n",
    "# 1번의 학생은 합격 입니다.\n",
    "# 5번의 학생은 합격 입니다.\n",
    "scores = [90, 25, 57, 45, 80]\n",
    "number = 0\n",
    "\n",
    "for score in scores:\n",
    "    number+=1\n",
    "    if score < 60:\n",
    "        continue\n",
    "    print(f\"{number}의 학생은 합격 입니다.\")"
   ]
  },
  {
   "cell_type": "code",
   "execution_count": 88,
   "id": "2f80fefa",
   "metadata": {},
   "outputs": [
    {
     "name": "stdout",
     "output_type": "stream",
     "text": [
      "[5, 10, 15, 20]\n",
      "12.5\n"
     ]
    }
   ],
   "source": [
    "# 연습 : list의 data를 5배 증가하여 새로운 list를 만들고 평균 구하기\n",
    "list01 = [1,2,3,4]\n",
    "new_list = []\n",
    "\n",
    "for li01 in list01:\n",
    "    new_list.append(li01 * 5)\n",
    "\n",
    "print(new_list)\n",
    "print(np.mean(new_list))"
   ]
  },
  {
   "cell_type": "code",
   "execution_count": 89,
   "id": "f28bac9f",
   "metadata": {},
   "outputs": [
    {
     "data": {
      "text/plain": [
       "[1, 5]"
      ]
     },
     "execution_count": 89,
     "metadata": {},
     "output_type": "execute_result"
    }
   ],
   "source": [
    "# Ex : 60점 이상인 학생들의 번호만 리스트로 만들어 확인하기\n",
    "number = 0\n",
    "pass_list = []\n",
    "\n",
    "for score in scores:\n",
    "    number += 1\n",
    "    if score > 60:\n",
    "        pass_list.append(number)\n",
    "\n",
    "pass_list"
   ]
  },
  {
   "cell_type": "code",
   "execution_count": 90,
   "id": "f50ad042",
   "metadata": {},
   "outputs": [
    {
     "data": {
      "text/plain": [
       "85.0"
      ]
     },
     "execution_count": 90,
     "metadata": {},
     "output_type": "execute_result"
    }
   ],
   "source": [
    "# Ex : 60점 이상인 학생들의 점수를 List로 만들고 평균 구하기\n",
    "mean_list = []\n",
    "\n",
    "for score in scores:\n",
    "    if score > 60:\n",
    "        mean_list.append(score)\n",
    "\n",
    "np.mean(mean_list)"
   ]
  },
  {
   "cell_type": "markdown",
   "id": "f2184e8b",
   "metadata": {},
   "source": [
    "---\n",
    "### 문장과 단어 추출"
   ]
  },
  {
   "cell_type": "code",
   "execution_count": 91,
   "id": "50dcbb87",
   "metadata": {},
   "outputs": [
    {
     "data": {
      "text/plain": [
       "'나는 홍길동 입니다.\\n주소는 서울시 입니다.\\n나이는 35세 입니다.'"
      ]
     },
     "execution_count": 91,
     "metadata": {},
     "output_type": "execute_result"
    }
   ],
   "source": [
    "string = \"\"\"나는 홍길동 입니다.\n",
    "주소는 서울시 입니다.\n",
    "나이는 35세 입니다.\"\"\"\n",
    "string"
   ]
  },
  {
   "cell_type": "code",
   "execution_count": 92,
   "id": "2d2877dc",
   "metadata": {},
   "outputs": [],
   "source": [
    "sents = [] # 문장 저장\n",
    "words = [] # 단어 저장"
   ]
  },
  {
   "cell_type": "code",
   "execution_count": 94,
   "id": "111d2daa",
   "metadata": {},
   "outputs": [
    {
     "data": {
      "text/plain": [
       "['나는 홍길동 입니다.', '주소는 서울시 입니다.', '나이는 35세 입니다.']"
      ]
     },
     "execution_count": 94,
     "metadata": {},
     "output_type": "execute_result"
    }
   ],
   "source": [
    "# 문단 -> 문장\n",
    "string.split(\"\\n\")"
   ]
  },
  {
   "cell_type": "code",
   "execution_count": 96,
   "id": "cb7a6308",
   "metadata": {},
   "outputs": [],
   "source": [
    "for sen in string.split(\"\\n\"):\n",
    "    sents.append(sen)\n",
    "    for word in sen.split():\n",
    "        words.append(word)"
   ]
  },
  {
   "cell_type": "code",
   "execution_count": 97,
   "id": "7a769da5",
   "metadata": {},
   "outputs": [
    {
     "data": {
      "text/plain": [
       "['나는 홍길동 입니다.', '주소는 서울시 입니다.', '나이는 35세 입니다.']"
      ]
     },
     "execution_count": 97,
     "metadata": {},
     "output_type": "execute_result"
    }
   ],
   "source": [
    "sents"
   ]
  },
  {
   "cell_type": "code",
   "execution_count": 98,
   "id": "e7c5ed5b",
   "metadata": {},
   "outputs": [
    {
     "data": {
      "text/plain": [
       "['나는', '홍길동', '입니다.', '주소는', '서울시', '입니다.', '나이는', '35세', '입니다.']"
      ]
     },
     "execution_count": 98,
     "metadata": {},
     "output_type": "execute_result"
    }
   ],
   "source": [
    "words"
   ]
  },
  {
   "cell_type": "code",
   "execution_count": 100,
   "id": "98d5fd0c",
   "metadata": {},
   "outputs": [
    {
     "name": "stdout",
     "output_type": "stream",
     "text": [
      "문장수 : 3\n",
      "단어수 : 9\n"
     ]
    }
   ],
   "source": [
    "# 문장수\n",
    "print(f\"문장수 : {len(sents)}\")\n",
    "\n",
    "# 단어수\n",
    "print(f\"단어수 : {len(words)}\")"
   ]
  },
  {
   "cell_type": "code",
   "execution_count": 104,
   "id": "32bd33df",
   "metadata": {},
   "outputs": [
    {
     "data": {
      "text/plain": [
       "666"
      ]
     },
     "execution_count": 104,
     "metadata": {},
     "output_type": "execute_result"
    }
   ],
   "source": [
    "data = \"111,222,333\" # 111 + 222 + 333 = ?\n",
    "real = [] # 정수로 된 각각의 숫자 \n",
    "for i in data.split(\",\"):\n",
    "    real.append(int(i))\n",
    "np.sum(real)"
   ]
  },
  {
   "cell_type": "markdown",
   "id": "1a11a534",
   "metadata": {},
   "source": [
    "---\n",
    "### 파이썬의 내포(Comprehension)"
   ]
  },
  {
   "cell_type": "code",
   "execution_count": null,
   "id": "ea9c5e19",
   "metadata": {},
   "outputs": [
    {
     "data": {
      "text/plain": [
       "[5, 10, 15, 20]"
      ]
     },
     "execution_count": 106,
     "metadata": {},
     "output_type": "execute_result"
    }
   ],
   "source": [
    "list01 = [1,2,3,4]\n",
    "list02 = []\n",
    "\n",
    "for i in list01:\n",
    "    list02.append(i * 5)\n",
    "\n",
    "list02"
   ]
  },
  {
   "cell_type": "code",
   "execution_count": 107,
   "id": "fb77a2e8",
   "metadata": {},
   "outputs": [
    {
     "data": {
      "text/plain": [
       "[5, 10, 15, 20]"
      ]
     },
     "execution_count": 107,
     "metadata": {},
     "output_type": "execute_result"
    }
   ],
   "source": [
    "list01 = [1,2,3,4]\n",
    "list02 = [i * 5 for i in list01]\n",
    "list02"
   ]
  },
  {
   "cell_type": "code",
   "execution_count": 108,
   "id": "76a6e837",
   "metadata": {},
   "outputs": [
    {
     "data": {
      "text/plain": [
       "[10, 20]"
      ]
     },
     "execution_count": 108,
     "metadata": {},
     "output_type": "execute_result"
    }
   ],
   "source": [
    "# list01에서 데이터가 짝수인 경우에만 5를 곱해서 list02라는 데이터 만들기\n",
    "\n",
    "list01 = [1,2,3,4]\n",
    "list02 = []\n",
    "\n",
    "for i in list01:\n",
    "    if i % 2 == 0:\n",
    "        list02.append(i*5)\n",
    "\n",
    "list02"
   ]
  },
  {
   "cell_type": "code",
   "execution_count": 109,
   "id": "e2c8f958",
   "metadata": {},
   "outputs": [
    {
     "data": {
      "text/plain": [
       "[90, 25, 57, 45, 80]"
      ]
     },
     "execution_count": 109,
     "metadata": {},
     "output_type": "execute_result"
    }
   ],
   "source": [
    "scores"
   ]
  },
  {
   "cell_type": "code",
   "execution_count": null,
   "id": "a4c07270",
   "metadata": {},
   "outputs": [],
   "source": [
    "# 60점 이상으로 합격한 학생들 점수의 평균구하기\n"
   ]
  },
  {
   "cell_type": "code",
   "execution_count": 111,
   "id": "ce7496ad",
   "metadata": {},
   "outputs": [
    {
     "name": "stdout",
     "output_type": "stream",
     "text": [
      "[2, 4, 6, 8, 10, 12, 14, 16, 18, 3, 6, 9, 12, 15, 18, 21, 24, 27, 4, 8, 12, 16, 20, 24, 28, 32, 36, 5, 10, 15, 20, 25, 30, 35, 40, 45, 6, 12, 18, 24, 30, 36, 42, 48, 54, 7, 14, 21, 28, 35, 42, 49, 56, 63, 8, 16, 24, 32, 40, 48, 56, 64, 72, 9, 18, 27, 36, 45, 54, 63, 72, 81]\n"
     ]
    }
   ],
   "source": [
    "# Ex : 2단 부터 9단까지 구구단의 결과값을 List로 생성하기\n",
    "guguDan = []\n",
    "for dan in range(2, 9+1):\n",
    "    for num in range(1, 9+1):\n",
    "        guguDan.append(dan * num)\n",
    "print(guguDan)"
   ]
  },
  {
   "cell_type": "code",
   "execution_count": 112,
   "id": "39b8fd56",
   "metadata": {},
   "outputs": [
    {
     "name": "stdout",
     "output_type": "stream",
     "text": [
      "[2, 4, 6, 8, 10, 12, 14, 16, 18, 3, 6, 9, 12, 15, 18, 21, 24, 27, 4, 8, 12, 16, 20, 24, 28, 32, 36, 5, 10, 15, 20, 25, 30, 35, 40, 45, 6, 12, 18, 24, 30, 36, 42, 48, 54, 7, 14, 21, 28, 35, 42, 49, 56, 63, 8, 16, 24, 32, 40, 48, 56, 64, 72, 9, 18, 27, 36, 45, 54, 63, 72, 81]\n"
     ]
    }
   ],
   "source": [
    "guguDan = [dan*num for dan in range(2, 9+1) for num in range(1, 9+1)]\n",
    "print(guguDan)"
   ]
  },
  {
   "cell_type": "code",
   "execution_count": 114,
   "id": "af61e619",
   "metadata": {},
   "outputs": [
    {
     "name": "stdout",
     "output_type": "stream",
     "text": [
      "[[2, 4, 6, 8, 10, 12, 14, 16, 18], [3, 6, 9, 12, 15, 18, 21, 24, 27], [4, 8, 12, 16, 20, 24, 28, 32, 36], [5, 10, 15, 20, 25, 30, 35, 40, 45], [6, 12, 18, 24, 30, 36, 42, 48, 54], [7, 14, 21, 28, 35, 42, 49, 56, 63], [8, 16, 24, 32, 40, 48, 56, 64, 72], [9, 18, 27, 36, 45, 54, 63, 72, 81]]\n"
     ]
    }
   ],
   "source": [
    "# 단 별로 구분하기\n",
    "guguDan = [[dan*num for num in range(1, 9+1)] for dan in range(2, 9+1)]\n",
    "print(guguDan)"
   ]
  },
  {
   "cell_type": "code",
   "execution_count": 115,
   "id": "b92c4483",
   "metadata": {},
   "outputs": [
    {
     "data": {
      "text/plain": [
       "[2, 4, 6, 8, 10, 12, 14, 16, 18]"
      ]
     },
     "execution_count": 115,
     "metadata": {},
     "output_type": "execute_result"
    }
   ],
   "source": [
    "guguDan[0]"
   ]
  },
  {
   "cell_type": "code",
   "execution_count": null,
   "id": "e89841f1",
   "metadata": {},
   "outputs": [],
   "source": []
  }
 ],
 "metadata": {
  "kernelspec": {
   "display_name": "base",
   "language": "python",
   "name": "python3"
  },
  "language_info": {
   "codemirror_mode": {
    "name": "ipython",
    "version": 3
   },
   "file_extension": ".py",
   "mimetype": "text/x-python",
   "name": "python",
   "nbconvert_exporter": "python",
   "pygments_lexer": "ipython3",
   "version": "3.12.7"
  }
 },
 "nbformat": 4,
 "nbformat_minor": 5
}
