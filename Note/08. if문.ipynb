{
 "cells": [
  {
   "cell_type": "markdown",
   "id": "576723d3",
   "metadata": {},
   "source": [
    "### if문"
   ]
  },
  {
   "cell_type": "code",
   "execution_count": 5,
   "id": "98a6ee28",
   "metadata": {},
   "outputs": [],
   "source": [
    "num1 = 1000\n",
    "num2 = 100"
   ]
  },
  {
   "cell_type": "code",
   "execution_count": 6,
   "id": "e4df4731",
   "metadata": {},
   "outputs": [
    {
     "name": "stdout",
     "output_type": "stream",
     "text": [
      "=== end ===\n"
     ]
    }
   ],
   "source": [
    "# if문 1개\n",
    "if num1 == num2:\n",
    "    print(f\"{num1} == {num2}\")\n",
    "\n",
    "print(\"=== end ===\")"
   ]
  },
  {
   "cell_type": "code",
   "execution_count": 7,
   "id": "544f1d0e",
   "metadata": {},
   "outputs": [
    {
     "name": "stdout",
     "output_type": "stream",
     "text": [
      "1000 != 100\n",
      "--- end ---\n"
     ]
    }
   ],
   "source": [
    "# if ~ else \n",
    "if num1 == num2:\n",
    "    print(f\"{num1} == {num2}\")\n",
    "else:\n",
    "    print(f\"{num1} != {num2}\")\n",
    "\n",
    "print(\"--- end ---\")"
   ]
  },
  {
   "cell_type": "code",
   "execution_count": 8,
   "id": "96a6d7ab",
   "metadata": {},
   "outputs": [
    {
     "name": "stdout",
     "output_type": "stream",
     "text": [
      "1000 > 100\n",
      "--- end ---\n"
     ]
    }
   ],
   "source": [
    "# if ~ elif ~ else\n",
    "if num1 == num2:\n",
    "    print(f\"{num1} == {num2}\")\n",
    "elif num1 > num2:\n",
    "    print(f\"{num1} > {num2}\")\n",
    "elif num1 < num2:\n",
    "    print(f\"{num1} < {num2}\")\n",
    "else:\n",
    "    print(\"I don't know.\")\n",
    "\n",
    "print(\"--- end ---\")"
   ]
  },
  {
   "cell_type": "markdown",
   "id": "9eb227cb",
   "metadata": {},
   "source": [
    "### 난수를 받아 비교 처리하기\n",
    ": 난수의 값이 50보다 큰지 확인하기"
   ]
  },
  {
   "cell_type": "code",
   "execution_count": 9,
   "id": "ed1a067b",
   "metadata": {},
   "outputs": [],
   "source": [
    "from random import randint"
   ]
  },
  {
   "cell_type": "code",
   "execution_count": 21,
   "id": "1950b4cc",
   "metadata": {},
   "outputs": [
    {
     "data": {
      "text/plain": [
       "9"
      ]
     },
     "execution_count": 21,
     "metadata": {},
     "output_type": "execute_result"
    }
   ],
   "source": [
    "randint(1, 50)"
   ]
  },
  {
   "cell_type": "code",
   "execution_count": 27,
   "id": "1cc5b50b",
   "metadata": {},
   "outputs": [],
   "source": [
    "# if문 : 50보다 크면 출력하고 아니면 그냥 끝내기\n",
    "x = randint(1, 100)\n",
    "\n",
    "if x > 50:\n",
    "    print(f\"{x} is greater than 50.\")\n"
   ]
  },
  {
   "cell_type": "code",
   "execution_count": null,
   "id": "e051a783",
   "metadata": {},
   "outputs": [
    {
     "name": "stdout",
     "output_type": "stream",
     "text": [
      "1 is less or equal to 50.\n"
     ]
    }
   ],
   "source": [
    "# if와 else \n",
    "# 50보다 크면 : __ is greater than 50.\n",
    "# 50보다 작거나 같으면 : __ is less or equal to 50.\n",
    "\n",
    "x = randint(1, 100)\n",
    "\n",
    "if x > 50:\n",
    "    print(f\"{x} is greater than 50.\")\n",
    "else:\n",
    "    print(f\"{x} is less or equal to 50.\")"
   ]
  },
  {
   "cell_type": "code",
   "execution_count": 33,
   "id": "0eff95cd",
   "metadata": {},
   "outputs": [
    {
     "name": "stdout",
     "output_type": "stream",
     "text": [
      "91 is greater than 50.\n"
     ]
    }
   ],
   "source": [
    "# if, elif, else \n",
    "# 50보다 크면 : ___ is greater than 50.\n",
    "# 50보다 작으면 : ___ is less than 50.\n",
    "# 50과 같으면 : ___ is equal to 50.\n",
    "\n",
    "x = randint(1, 100)\n",
    "if x > 50:\n",
    "    print(f\"{x} is greater than 50.\")\n",
    "elif x < 50:\n",
    "    print(f\"{x} is less than 50.\")\n",
    "else:\n",
    "    print(f\"{x} is equal to 50.\")\n"
   ]
  },
  {
   "cell_type": "code",
   "execution_count": 36,
   "id": "c205e47d",
   "metadata": {},
   "outputs": [
    {
     "name": "stdout",
     "output_type": "stream",
     "text": [
      "10 is even.\n"
     ]
    }
   ],
   "source": [
    "# 어떤 수가 홀수 인지 짝수 인지 판별\n",
    "num1 = 10\n",
    "\n",
    "if num1 % 2 == 0:\n",
    "    print(f\"{num1} is even.\")\n",
    "else:\n",
    "    print(f\"{num1} is odd.\")"
   ]
  },
  {
   "cell_type": "markdown",
   "id": "be437eb0",
   "metadata": {},
   "source": [
    "### 사용자로 부터 데이터 입력 받기"
   ]
  },
  {
   "cell_type": "code",
   "execution_count": 39,
   "id": "4f568c2e",
   "metadata": {},
   "outputs": [
    {
     "data": {
      "text/plain": [
       "12"
      ]
     },
     "execution_count": 39,
     "metadata": {},
     "output_type": "execute_result"
    }
   ],
   "source": [
    "int(input(\"정수를 입력 하세요 :\"))"
   ]
  },
  {
   "cell_type": "code",
   "execution_count": 41,
   "id": "75cc9608",
   "metadata": {},
   "outputs": [
    {
     "name": "stdout",
     "output_type": "stream",
     "text": [
      "11 is odd.\n"
     ]
    }
   ],
   "source": [
    "# Ex : 사용자로 부터 정수를 입력받아 홀수 인지 짝수인지 구별하기\n",
    "num1 = int(input(\"정수를 입력 하세요 :\"))\n",
    "\n",
    "if num1 % 2 == 0:\n",
    "    print(f\"{num1} is even.\")\n",
    "else:\n",
    "    print(f\"{num1} is odd.\")"
   ]
  },
  {
   "cell_type": "markdown",
   "id": "3e5a8131",
   "metadata": {},
   "source": [
    "### Ex\n",
    "사용자로 부터 시험점수를 입력 받아       \n",
    "- 90점 이상이면 : A학점\n",
    "- 80점 이상이면 : B학점\n",
    "- 70점 이상이면 : C학점\n",
    "- 60점 이상이면 : D학점\n",
    "- 60점 미만이면 : F학점\n",
    "\n",
    "(출력예시)    \n",
    "시험 점수를 입력하세요 : 50 <== 입력    \n",
    "시험 점수는 50점이고 학점은 F학점 입니다.  <== 출력 \n"
   ]
  },
  {
   "cell_type": "code",
   "execution_count": 42,
   "id": "2ada5a63",
   "metadata": {},
   "outputs": [
    {
     "name": "stdout",
     "output_type": "stream",
     "text": [
      "시험 점수는 78 이고 학점은 C학점 입니다.\n"
     ]
    }
   ],
   "source": [
    "# Method 1\n",
    "# 입력\n",
    "score = int(input(\"시험 점수를 입력 하세요 :\"))\n",
    "\n",
    "# 처리\n",
    "if score >= 90:\n",
    "    print(f\"시험 점수는 {score} 이고 학점은 A학점 입니다.\")\n",
    "elif score >= 80:\n",
    "    print(f\"시험 점수는 {score} 이고 학점은 B학점 입니다.\")\n",
    "elif score >= 70:\n",
    "    print(f\"시험 점수는 {score} 이고 학점은 C학점 입니다.\")\n",
    "elif score >= 60:\n",
    "    print(f\"시험 점수는 {score} 이고 학점은 D학점 입니다.\")\n",
    "else:\n",
    "    print(f\"시험 점수는 {score} 이고 학점은 F학점 입니다.\")\n",
    "    \n",
    "# 출력 "
   ]
  },
  {
   "cell_type": "code",
   "execution_count": 45,
   "id": "07375c8c",
   "metadata": {},
   "outputs": [
    {
     "name": "stdout",
     "output_type": "stream",
     "text": [
      "시험 점수는 -90이고 F학점 입니다.\n"
     ]
    }
   ],
   "source": [
    "# Method 2\n",
    "# 입력\n",
    "score = int(input(\"시험 점수를 입력 하세요 :\"))\n",
    "grade = \"\"  # 학점 \n",
    "\n",
    "# 처리\n",
    "if score >= 90:\n",
    "    grade = \"A\"\n",
    "elif score >= 80:\n",
    "    grade = \"B\"\n",
    "elif score >= 70:\n",
    "    grade = \"C\"\n",
    "elif score >= 60:\n",
    "    grade = \"D\"\n",
    "else:\n",
    "    grade = \"F\"\n",
    "    \n",
    "# 출력 \n",
    "print(f\"시험 점수는 {score}이고 {grade}학점 입니다.\")"
   ]
  },
  {
   "cell_type": "code",
   "execution_count": 47,
   "id": "62cf5268",
   "metadata": {},
   "outputs": [
    {
     "name": "stdout",
     "output_type": "stream",
     "text": [
      "시험 점수는 100이고 A학점 입니다.\n"
     ]
    }
   ],
   "source": [
    "# Method 3\n",
    "# 입력\n",
    "score = int(input(\"시험 점수를 입력 하세요 :\"))\n",
    "grade = \"\"  # 학점 \n",
    "\n",
    "# 처리\n",
    "# 입력 점수 확인\n",
    "if score > 100 or score < 0:\n",
    "    print(\"점수를 확인 하세요\")\n",
    "else:\n",
    "    if score >= 90:\n",
    "        grade = \"A\"\n",
    "    elif score >= 80:\n",
    "        grade = \"B\"\n",
    "    elif score >= 70:\n",
    "        grade = \"C\"\n",
    "    elif score >= 60:\n",
    "        grade = \"D\"\n",
    "    else:\n",
    "        grade = \"F\"\n",
    "        \n",
    "    # 출력 \n",
    "    print(f\"시험 점수는 {score}이고 {grade}학점 입니다.\")"
   ]
  },
  {
   "cell_type": "markdown",
   "id": "12b22518",
   "metadata": {},
   "source": [
    "---\n",
    "### match case\n",
    ": 3.10부터 도입"
   ]
  },
  {
   "cell_type": "code",
   "execution_count": 48,
   "id": "b8cb391a",
   "metadata": {},
   "outputs": [
    {
     "name": "stdout",
     "output_type": "stream",
     "text": [
      "12는 짝수 입니다.\n"
     ]
    }
   ],
   "source": [
    "# 홀짝수 구분\n",
    "x = int(input(\"숫자를 입력 하세요 :\"))\n",
    "\n",
    "match x % 2:\n",
    "    case 0:\n",
    "        print(f\"{x}는 짝수 입니다.\")\n",
    "    case 1:\n",
    "        print(f\"{x}는 홀수 입니다.\")"
   ]
  },
  {
   "cell_type": "code",
   "execution_count": 49,
   "id": "cdff6dd1",
   "metadata": {},
   "outputs": [
    {
     "name": "stdout",
     "output_type": "stream",
     "text": [
      "15는 홀수 입니다.\n"
     ]
    }
   ],
   "source": [
    "# 홀짝수 구분\n",
    "x = int(input(\"숫자를 입력 하세요 :\"))\n",
    "\n",
    "match x:\n",
    "    case x if x%2 == 0:\n",
    "        print(f\"{x}는 짝수 입니다.\")\n",
    "    case _:\n",
    "        print(f\"{x}는 홀수 입니다.\")"
   ]
  },
  {
   "cell_type": "code",
   "execution_count": null,
   "id": "9e228566",
   "metadata": {},
   "outputs": [
    {
     "name": "stdout",
     "output_type": "stream",
     "text": [
      "양수\n"
     ]
    }
   ],
   "source": [
    "x = int(input(\"숫자를 입력하세요 :\"))\n",
    "\n",
    "match x:\n",
    "    case 0:\n",
    "        print(\"0\")\n",
    "    case 88 | 99:\n",
    "        print(\"88 이거나 99\")\n",
    "    case x if x % 10 == 0:\n",
    "        print(\"10의 배수\")\n",
    "    case x if x > 0:\n",
    "        print(\"양수\")\n",
    "    case x if x < 0:\n",
    "        print(\"음수\")\n",
    "    case _:\n",
    "        print(\"~~~~\")"
   ]
  },
  {
   "cell_type": "code",
   "execution_count": 52,
   "id": "fb4e2227",
   "metadata": {},
   "outputs": [
    {
     "name": "stdout",
     "output_type": "stream",
     "text": [
      "시험 점수는 89이고 B학점 입니다.\n"
     ]
    }
   ],
   "source": [
    "# Method 3\n",
    "# 입력\n",
    "score = int(input(\"시험 점수를 입력 하세요 :\"))\n",
    "grade = \"\"  # 학점 \n",
    "\n",
    "# 처리\n",
    "# 입력 점수 확인\n",
    "if score > 100 or score < 0:\n",
    "    print(\"점수를 확인 하세요\")\n",
    "else:\n",
    "    match score:\n",
    "        case score if score >= 90:\n",
    "            grade = \"A\"\n",
    "        case score if score >= 80:\n",
    "            grade = \"B\"\n",
    "        case score if score >= 70:\n",
    "            grade = \"C\"\n",
    "        case score if score >= 60:\n",
    "            grade = \"D\"\n",
    "        case _:\n",
    "            grade = \"F\"\n",
    "            \n",
    "        # 출력 \n",
    "    print(f\"시험 점수는 {score}이고 {grade}학점 입니다.\")"
   ]
  },
  {
   "cell_type": "code",
   "execution_count": 53,
   "id": "0d5c3f7b",
   "metadata": {},
   "outputs": [
    {
     "name": "stdout",
     "output_type": "stream",
     "text": [
      "시험 점수는 89이고 B학점 입니다.\n"
     ]
    }
   ],
   "source": [
    "# Method 4\n",
    "# 입력\n",
    "score = int(input(\"시험 점수를 입력 하세요 :\"))\n",
    "grade = \"\"  # 학점 \n",
    "\n",
    "# 처리\n",
    "# 입력 점수 확인\n",
    "match score:\n",
    "    case score if score > 100 or score < 0:\n",
    "        grade = 'Z'\n",
    "    case score if score >= 90:\n",
    "        grade = \"A\"\n",
    "    case score if score >= 80:\n",
    "        grade = \"B\"\n",
    "    case score if score >= 70:\n",
    "        grade = \"C\"\n",
    "    case score if score >= 60:\n",
    "        grade = \"D\"\n",
    "    case _:\n",
    "        grade = \"F\"\n",
    "        \n",
    "    # 출력 \n",
    "if grade == 'Z':\n",
    "    print(\"점수를 확인 하세요\")\n",
    "else:\n",
    "    print(f\"시험 점수는 {score}이고 {grade}학점 입니다.\")"
   ]
  },
  {
   "cell_type": "code",
   "execution_count": 56,
   "id": "9ccdff24",
   "metadata": {},
   "outputs": [
    {
     "name": "stdout",
     "output_type": "stream",
     "text": [
      "12\n"
     ]
    }
   ],
   "source": [
    "# Ex\n",
    "# 사용자로 부터 숫자를 입력 받아 5의 배수이면 해당 숫자의 제곱근을 구하고\n",
    "# 5의 배수가 아니면 입력한 수를 출력하기 \n",
    "# if문 사용하기 \n",
    "\n",
    "import math \n",
    "\n",
    "num = int(input(\"숫자를 입력하세요 :\"))\n",
    "\n",
    "if num % 5 == 0:\n",
    "    print(math.sqrt(num))   \n",
    "else:\n",
    "    print(num)"
   ]
  },
  {
   "cell_type": "code",
   "execution_count": 57,
   "id": "806455c7",
   "metadata": {},
   "outputs": [
    {
     "name": "stdout",
     "output_type": "stream",
     "text": [
      "3.872983346207417\n"
     ]
    }
   ],
   "source": [
    "# Ex\n",
    "# 사용자로 부터 숫자를 입력 받아 5의 배수이면 해당 숫자의 제곱근을 구하고\n",
    "# 5의 배수가 아니면 입력한 수를 출력하기 \n",
    "# match문 사용하기 \n",
    "\n",
    "import math \n",
    "\n",
    "num = int(input(\"숫자를 입력하세요 :\"))\n",
    "\n",
    "match num % 5 == 0:\n",
    "    case True:\n",
    "        print(math.sqrt(num)) \n",
    "    case False:\n",
    "        print(num)\n"
   ]
  },
  {
   "cell_type": "code",
   "execution_count": 58,
   "id": "679a34ef",
   "metadata": {},
   "outputs": [
    {
     "name": "stdout",
     "output_type": "stream",
     "text": [
      "12\n"
     ]
    }
   ],
   "source": [
    "# Ex\n",
    "# 사용자로 부터 숫자를 입력 받아 5의 배수이면 해당 숫자의 제곱근을 구하고\n",
    "# 5의 배수가 아니면 입력한 수를 출력하기 \n",
    "# match문 사용하기 \n",
    "\n",
    "import math \n",
    "\n",
    "num = int(input(\"숫자를 입력하세요 :\"))\n",
    "\n",
    "match num % 5:\n",
    "    case 0:\n",
    "        print(math.sqrt(num)) \n",
    "    case _:\n",
    "        print(num)\n"
   ]
  },
  {
   "cell_type": "markdown",
   "id": "088bcd03",
   "metadata": {},
   "source": [
    "---\n",
    "### 삼항 연산자 \n",
    ": 변수 = 참인 경우 if(조건문) else (거짓인 경우)"
   ]
  },
  {
   "cell_type": "code",
   "execution_count": 59,
   "id": "f284a7d6",
   "metadata": {},
   "outputs": [
    {
     "name": "stdout",
     "output_type": "stream",
     "text": [
      "짝수\n"
     ]
    }
   ],
   "source": [
    "# 홀짝수 판별\n",
    "num = int(input(\"숫자를 입력하세요 :\"))\n",
    "result = \"짝수\" if num % 2 == 0 else \"홀수\"\n",
    "print(result)"
   ]
  },
  {
   "cell_type": "code",
   "execution_count": 61,
   "id": "a824b82d",
   "metadata": {},
   "outputs": [
    {
     "name": "stdout",
     "output_type": "stream",
     "text": [
      "14\n"
     ]
    }
   ],
   "source": [
    "# Ex : 사용자로 부터 숫자를 입력 받아 \n",
    "# 입력 받은 수가 5보다 크면 입력수의 2배를 출력하고\n",
    "# 5보다 크지 않으면 입력수에 2를 더해서 출력하기\n",
    "num = int(input(\"숫자를 입력 하세요 :\"))\n",
    "result = num * 2 if num > 5 else num + 2\n",
    "print(result)"
   ]
  },
  {
   "cell_type": "code",
   "execution_count": 64,
   "id": "0de4c226",
   "metadata": {},
   "outputs": [
    {
     "name": "stdout",
     "output_type": "stream",
     "text": [
      "1\n",
      "7\n"
     ]
    }
   ],
   "source": [
    "# bit 연산자 (&, |)\n",
    "print(5 & 3)\n",
    "print(5 | 3)"
   ]
  },
  {
   "cell_type": "code",
   "execution_count": 65,
   "id": "21d33a81",
   "metadata": {},
   "outputs": [
    {
     "name": "stdout",
     "output_type": "stream",
     "text": [
      "3\n",
      "5\n"
     ]
    }
   ],
   "source": [
    "print(5 and 3)\n",
    "print(5 or 3)"
   ]
  },
  {
   "cell_type": "code",
   "execution_count": null,
   "id": "69a00f2b",
   "metadata": {},
   "outputs": [],
   "source": []
  }
 ],
 "metadata": {
  "kernelspec": {
   "display_name": "base",
   "language": "python",
   "name": "python3"
  },
  "language_info": {
   "codemirror_mode": {
    "name": "ipython",
    "version": 3
   },
   "file_extension": ".py",
   "mimetype": "text/x-python",
   "name": "python",
   "nbconvert_exporter": "python",
   "pygments_lexer": "ipython3",
   "version": "3.12.7"
  }
 },
 "nbformat": 4,
 "nbformat_minor": 5
}
