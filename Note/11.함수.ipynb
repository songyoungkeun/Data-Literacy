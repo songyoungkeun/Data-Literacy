{
 "cells": [
  {
   "cell_type": "markdown",
   "id": "9c92b061",
   "metadata": {},
   "source": [
    "### 함수\n",
    "- 똑같은 내용을 반복하여 작성하는 경우\n",
    "- 프로그램 유지보수시 프로그램의 흐름을 한번에 확인할 수 있다. "
   ]
  },
  {
   "cell_type": "markdown",
   "id": "6d1ef591",
   "metadata": {},
   "source": [
    "#### numpy의 내장 함수"
   ]
  },
  {
   "cell_type": "code",
   "execution_count": 1,
   "id": "ec366d9a",
   "metadata": {},
   "outputs": [],
   "source": [
    "import numpy as np"
   ]
  },
  {
   "cell_type": "code",
   "execution_count": 2,
   "id": "330ff1b8",
   "metadata": {},
   "outputs": [
    {
     "data": {
      "text/plain": [
       "5.5"
      ]
     },
     "execution_count": 2,
     "metadata": {},
     "output_type": "execute_result"
    }
   ],
   "source": [
    "# 평균 구하기\n",
    "np.mean(range(1, 10+1))"
   ]
  },
  {
   "cell_type": "code",
   "execution_count": 3,
   "id": "eb860397",
   "metadata": {},
   "outputs": [
    {
     "data": {
      "text/plain": [
       "55"
      ]
     },
     "execution_count": 3,
     "metadata": {},
     "output_type": "execute_result"
    }
   ],
   "source": [
    "# 합계 구하기\n",
    "np.sum(range(1, 10+1))"
   ]
  },
  {
   "cell_type": "code",
   "execution_count": 4,
   "id": "cccc72cf",
   "metadata": {},
   "outputs": [
    {
     "data": {
      "text/plain": [
       "2.8722813232690143"
      ]
     },
     "execution_count": 4,
     "metadata": {},
     "output_type": "execute_result"
    }
   ],
   "source": [
    "# 표준편차 구하기\n",
    "np.std(range(1, 10+1))"
   ]
  },
  {
   "cell_type": "code",
   "execution_count": 5,
   "id": "ad3190ac",
   "metadata": {},
   "outputs": [
    {
     "data": {
      "text/plain": [
       "10"
      ]
     },
     "execution_count": 5,
     "metadata": {},
     "output_type": "execute_result"
    }
   ],
   "source": [
    "# 최대값 구하기\n",
    "np.max(range(1, 10+1))"
   ]
  },
  {
   "cell_type": "code",
   "execution_count": 6,
   "id": "3d8ae86d",
   "metadata": {},
   "outputs": [
    {
     "data": {
      "text/plain": [
       "1"
      ]
     },
     "execution_count": 6,
     "metadata": {},
     "output_type": "execute_result"
    }
   ],
   "source": [
    "# 최소값 구하기\n",
    "np.min(range(1, 10+1))"
   ]
  },
  {
   "cell_type": "code",
   "execution_count": 8,
   "id": "2e2d7359",
   "metadata": {},
   "outputs": [
    {
     "name": "stdout",
     "output_type": "stream",
     "text": [
      "1.0\n",
      "6.571428571428571\n"
     ]
    }
   ],
   "source": [
    "# 중앙값 구하기 \n",
    "test = [1,1,1,1,1,1,40]\n",
    "print(np.median(test))\n",
    "print(np.mean(test))"
   ]
  },
  {
   "cell_type": "code",
   "execution_count": 15,
   "id": "cf50120f",
   "metadata": {},
   "outputs": [
    {
     "data": {
      "text/plain": [
       "array([ 1,  3,  6, 10, 15, 21, 28, 36, 45, 55])"
      ]
     },
     "execution_count": 15,
     "metadata": {},
     "output_type": "execute_result"
    }
   ],
   "source": [
    "# 누적합\n",
    "np.cumsum(range(1, 10+1))"
   ]
  },
  {
   "cell_type": "code",
   "execution_count": 12,
   "id": "7f189540",
   "metadata": {},
   "outputs": [
    {
     "data": {
      "text/plain": [
       "array([      1,       2,       6,      24,     120,     720,    5040,\n",
       "         40320,  362880, 3628800])"
      ]
     },
     "execution_count": 12,
     "metadata": {},
     "output_type": "execute_result"
    }
   ],
   "source": [
    "# 누적곱\n",
    "np.cumprod(range(1, 10+1))"
   ]
  },
  {
   "cell_type": "markdown",
   "id": "41c3d1d0",
   "metadata": {},
   "source": [
    "---\n",
    "### 사용자 정의함수\n",
    ": 매개변수(Parameter)가 없는 함수"
   ]
  },
  {
   "cell_type": "code",
   "execution_count": 16,
   "id": "3430c72a",
   "metadata": {},
   "outputs": [],
   "source": [
    "def hiF():\n",
    "    return \"Hello!\""
   ]
  },
  {
   "cell_type": "code",
   "execution_count": 17,
   "id": "5d2d140b",
   "metadata": {},
   "outputs": [
    {
     "data": {
      "text/plain": [
       "'Hello!'"
      ]
     },
     "execution_count": 17,
     "metadata": {},
     "output_type": "execute_result"
    }
   ],
   "source": [
    "hiF()"
   ]
  },
  {
   "cell_type": "code",
   "execution_count": 19,
   "id": "36184b6e",
   "metadata": {},
   "outputs": [
    {
     "data": {
      "text/plain": [
       "'Hello!'"
      ]
     },
     "execution_count": 19,
     "metadata": {},
     "output_type": "execute_result"
    }
   ],
   "source": [
    "hiF()"
   ]
  },
  {
   "cell_type": "code",
   "execution_count": 20,
   "id": "091cd74e",
   "metadata": {},
   "outputs": [],
   "source": [
    "def test1():\n",
    "    x = 10\n",
    "    y = 20\n",
    "    return x * y"
   ]
  },
  {
   "cell_type": "code",
   "execution_count": 21,
   "id": "cff05e0c",
   "metadata": {},
   "outputs": [
    {
     "data": {
      "text/plain": [
       "200"
      ]
     },
     "execution_count": 21,
     "metadata": {},
     "output_type": "execute_result"
    }
   ],
   "source": [
    "test1()"
   ]
  },
  {
   "cell_type": "markdown",
   "id": "f4168b8d",
   "metadata": {},
   "source": [
    "---\n",
    "#### 매개변수가 있는 함수"
   ]
  },
  {
   "cell_type": "code",
   "execution_count": 22,
   "id": "19e10b4b",
   "metadata": {},
   "outputs": [],
   "source": [
    "def test2(num1, num2):\n",
    "    return num1 + num2"
   ]
  },
  {
   "cell_type": "code",
   "execution_count": 25,
   "id": "1d0ec2e0",
   "metadata": {},
   "outputs": [
    {
     "name": "stdout",
     "output_type": "stream",
     "text": [
      "22\n"
     ]
    }
   ],
   "source": [
    "var01 = test2(10, 12)\n",
    "print(var01)"
   ]
  },
  {
   "cell_type": "code",
   "execution_count": 24,
   "id": "971fe0e0",
   "metadata": {},
   "outputs": [
    {
     "data": {
      "text/plain": [
       "300"
      ]
     },
     "execution_count": 24,
     "metadata": {},
     "output_type": "execute_result"
    }
   ],
   "source": [
    "test2(100, 200)"
   ]
  },
  {
   "cell_type": "code",
   "execution_count": null,
   "id": "685a2033",
   "metadata": {},
   "outputs": [],
   "source": []
  }
 ],
 "metadata": {
  "kernelspec": {
   "display_name": "base",
   "language": "python",
   "name": "python3"
  },
  "language_info": {
   "codemirror_mode": {
    "name": "ipython",
    "version": 3
   },
   "file_extension": ".py",
   "mimetype": "text/x-python",
   "name": "python",
   "nbconvert_exporter": "python",
   "pygments_lexer": "ipython3",
   "version": "3.12.7"
  }
 },
 "nbformat": 4,
 "nbformat_minor": 5
}
