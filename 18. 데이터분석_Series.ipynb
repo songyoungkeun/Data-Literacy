{
 "cells": [
  {
   "cell_type": "markdown",
   "id": "73371a80",
   "metadata": {},
   "source": [
    "### Series\n",
    ": 데이터가 순차적으로 나열된 1차원 배열의 형태 "
   ]
  },
  {
   "cell_type": "code",
   "execution_count": 1,
   "id": "0b58d31a",
   "metadata": {},
   "outputs": [],
   "source": [
    "import pandas as pd"
   ]
  },
  {
   "cell_type": "markdown",
   "id": "92e4209c",
   "metadata": {},
   "source": [
    "### Dictionary -> Series"
   ]
  },
  {
   "cell_type": "code",
   "execution_count": 6,
   "id": "8caf0290",
   "metadata": {},
   "outputs": [
    {
     "data": {
      "text/plain": [
       "{'a': 1, 'b': 2, 'c': 3}"
      ]
     },
     "execution_count": 6,
     "metadata": {},
     "output_type": "execute_result"
    }
   ],
   "source": [
    "# Dictionary 만들기\n",
    "dict_data = {\n",
    "    'a' : 1,\n",
    "    'b' : 2,\n",
    "    'c' : 3,\n",
    "}\n",
    "dict_data"
   ]
  },
  {
   "cell_type": "code",
   "execution_count": 7,
   "id": "5862c65c",
   "metadata": {},
   "outputs": [
    {
     "data": {
      "text/plain": [
       "a    1\n",
       "b    2\n",
       "c    3\n",
       "dtype: int64"
      ]
     },
     "execution_count": 7,
     "metadata": {},
     "output_type": "execute_result"
    }
   ],
   "source": [
    "# Series로 변환\n",
    "sr = pd.Series(dict_data)\n",
    "sr"
   ]
  },
  {
   "cell_type": "code",
   "execution_count": 8,
   "id": "7e6a77f3",
   "metadata": {},
   "outputs": [
    {
     "data": {
      "text/plain": [
       "1"
      ]
     },
     "execution_count": 8,
     "metadata": {},
     "output_type": "execute_result"
    }
   ],
   "source": [
    "sr['a']"
   ]
  },
  {
   "cell_type": "markdown",
   "id": "c699bc60",
   "metadata": {},
   "source": [
    "### List -> Series"
   ]
  },
  {
   "cell_type": "code",
   "execution_count": 9,
   "id": "f4374a9b",
   "metadata": {},
   "outputs": [
    {
     "data": {
      "text/plain": [
       "['2025-12-31', 3.14, 'abc', 100, True]"
      ]
     },
     "execution_count": 9,
     "metadata": {},
     "output_type": "execute_result"
    }
   ],
   "source": [
    "list_data = [\n",
    "    '2025-12-31',\n",
    "    3.14,\n",
    "    'abc',\n",
    "    100,\n",
    "    True\n",
    "]\n",
    "\n",
    "list_data"
   ]
  },
  {
   "cell_type": "code",
   "execution_count": 11,
   "id": "05a0b6a1",
   "metadata": {},
   "outputs": [
    {
     "data": {
      "text/plain": [
       "년도    2025-12-31\n",
       "실수          3.14\n",
       "문자           abc\n",
       "정수           100\n",
       "부울          True\n",
       "dtype: object"
      ]
     },
     "execution_count": 11,
     "metadata": {},
     "output_type": "execute_result"
    }
   ],
   "source": [
    "sr = pd.Series(\n",
    "    list_data,\n",
    "    index=['년도', '실수', '문자', '정수', '부울']\n",
    ")\n",
    "sr"
   ]
  },
  {
   "cell_type": "code",
   "execution_count": 16,
   "id": "9ab338cf",
   "metadata": {},
   "outputs": [
    {
     "data": {
      "text/plain": [
       "'2025-12-31'"
      ]
     },
     "execution_count": 16,
     "metadata": {},
     "output_type": "execute_result"
    }
   ],
   "source": [
    "sr.loc['년도']"
   ]
  },
  {
   "cell_type": "code",
   "execution_count": 17,
   "id": "b6518748",
   "metadata": {},
   "outputs": [
    {
     "data": {
      "text/plain": [
       "'2025-12-31'"
      ]
     },
     "execution_count": 17,
     "metadata": {},
     "output_type": "execute_result"
    }
   ],
   "source": [
    "sr.iloc[0]"
   ]
  },
  {
   "cell_type": "markdown",
   "id": "a446900b",
   "metadata": {},
   "source": [
    "### Tuple -> Series"
   ]
  },
  {
   "cell_type": "code",
   "execution_count": 18,
   "id": "d97aaab1",
   "metadata": {},
   "outputs": [
    {
     "data": {
      "text/plain": [
       "('유비', '2025-12-31', '남', False)"
      ]
     },
     "execution_count": 18,
     "metadata": {},
     "output_type": "execute_result"
    }
   ],
   "source": [
    "tuple_data = (\n",
    "    \"유비\",\n",
    "    \"2025-12-31\",\n",
    "    '남',\n",
    "    False\n",
    ")\n",
    "tuple_data"
   ]
  },
  {
   "cell_type": "code",
   "execution_count": 19,
   "id": "a6813c1d",
   "metadata": {},
   "outputs": [
    {
     "data": {
      "text/plain": [
       "이름              유비\n",
       "생년월일    2025-12-31\n",
       "성별               남\n",
       "학생여부         False\n",
       "dtype: object"
      ]
     },
     "execution_count": 19,
     "metadata": {},
     "output_type": "execute_result"
    }
   ],
   "source": [
    "sr = pd.Series(\n",
    "    tuple_data,\n",
    "    index=['이름', \"생년월일\", '성별', '학생여부']\n",
    ")\n",
    "sr"
   ]
  },
  {
   "cell_type": "code",
   "execution_count": 22,
   "id": "b2286f2a",
   "metadata": {},
   "outputs": [
    {
     "data": {
      "text/plain": [
       "'유비'"
      ]
     },
     "execution_count": 22,
     "metadata": {},
     "output_type": "execute_result"
    }
   ],
   "source": [
    "# 데이터 불러오기\n",
    "sr.loc['이름']"
   ]
  },
  {
   "cell_type": "code",
   "execution_count": 23,
   "id": "37bc2bc2",
   "metadata": {},
   "outputs": [
    {
     "data": {
      "text/plain": [
       "'유비'"
      ]
     },
     "execution_count": 23,
     "metadata": {},
     "output_type": "execute_result"
    }
   ],
   "source": [
    "sr.iloc[0]"
   ]
  },
  {
   "cell_type": "code",
   "execution_count": 25,
   "id": "2ab393dc",
   "metadata": {},
   "outputs": [
    {
     "data": {
      "text/plain": [
       "생년월일    2025-12-31\n",
       "성별               남\n",
       "dtype: object"
      ]
     },
     "execution_count": 25,
     "metadata": {},
     "output_type": "execute_result"
    }
   ],
   "source": [
    "# 생년월일, 성별 \n",
    "sr.loc[\"생년월일\":\"성별\"]"
   ]
  },
  {
   "cell_type": "code",
   "execution_count": 27,
   "id": "ce66e788",
   "metadata": {},
   "outputs": [
    {
     "data": {
      "text/plain": [
       "생년월일    2025-12-31\n",
       "dtype: object"
      ]
     },
     "execution_count": 27,
     "metadata": {},
     "output_type": "execute_result"
    }
   ],
   "source": [
    "sr.iloc[1:2]"
   ]
  },
  {
   "cell_type": "code",
   "execution_count": 26,
   "id": "789fb94b",
   "metadata": {},
   "outputs": [
    {
     "data": {
      "text/plain": [
       "생년월일    2025-12-31\n",
       "성별               남\n",
       "dtype: object"
      ]
     },
     "execution_count": 26,
     "metadata": {},
     "output_type": "execute_result"
    }
   ],
   "source": [
    "sr.loc[[\"생년월일\", \"성별\"]]"
   ]
  },
  {
   "cell_type": "code",
   "execution_count": 28,
   "id": "04ed25fe",
   "metadata": {},
   "outputs": [
    {
     "data": {
      "text/plain": [
       "생년월일    2025-12-31\n",
       "성별               남\n",
       "dtype: object"
      ]
     },
     "execution_count": 28,
     "metadata": {},
     "output_type": "execute_result"
    }
   ],
   "source": [
    "sr.iloc[[1,2]]"
   ]
  },
  {
   "cell_type": "markdown",
   "id": "2d1313d5",
   "metadata": {},
   "source": [
    "### Series의 연산"
   ]
  },
  {
   "cell_type": "code",
   "execution_count": 30,
   "id": "24836f01",
   "metadata": {},
   "outputs": [
    {
     "data": {
      "text/plain": [
       "국어    100\n",
       "영어     80\n",
       "수학     90\n",
       "dtype: int64"
      ]
     },
     "execution_count": 30,
     "metadata": {},
     "output_type": "execute_result"
    }
   ],
   "source": [
    "student1 = pd.Series(\n",
    "    {\n",
    "        '국어' : 100,\n",
    "        '영어' : 80,\n",
    "        '수학' : 90\n",
    "    }\n",
    ")\n",
    "\n",
    "student1"
   ]
  },
  {
   "cell_type": "code",
   "execution_count": 31,
   "id": "c4fee334",
   "metadata": {},
   "outputs": [
    {
     "data": {
      "text/plain": [
       "국어    1.0\n",
       "영어    0.8\n",
       "수학    0.9\n",
       "dtype: float64"
      ]
     },
     "execution_count": 31,
     "metadata": {},
     "output_type": "execute_result"
    }
   ],
   "source": [
    "# 모든 과목의 점수를 100으로 나누자\n",
    "student1 / 100"
   ]
  },
  {
   "cell_type": "code",
   "execution_count": 32,
   "id": "dac1a535",
   "metadata": {},
   "outputs": [
    {
     "data": {
      "text/plain": [
       "수학    80\n",
       "국어    90\n",
       "영어    80\n",
       "dtype: int64"
      ]
     },
     "execution_count": 32,
     "metadata": {},
     "output_type": "execute_result"
    }
   ],
   "source": [
    "student2 = pd.Series(\n",
    "    {\n",
    "        '수학' : 80,\n",
    "        '국어' : 90,\n",
    "        '영어' : 80\n",
    "    }\n",
    ")\n",
    "\n",
    "student2"
   ]
  },
  {
   "cell_type": "code",
   "execution_count": 33,
   "id": "7b07994f",
   "metadata": {},
   "outputs": [
    {
     "data": {
      "text/plain": [
       "국어    190\n",
       "수학    170\n",
       "영어    160\n",
       "dtype: int64"
      ]
     },
     "execution_count": 33,
     "metadata": {},
     "output_type": "execute_result"
    }
   ],
   "source": [
    "# 덧셈\n",
    "addition = student1 + student2\n",
    "addition"
   ]
  },
  {
   "cell_type": "markdown",
   "id": "746c63bb",
   "metadata": {},
   "source": [
    "> index에 맞추어져서 연산이 이루어진다."
   ]
  },
  {
   "cell_type": "code",
   "execution_count": 34,
   "id": "5b9df353",
   "metadata": {},
   "outputs": [],
   "source": [
    "# 뺄셈\n",
    "subtraction = student1 - student2\n",
    "# 곱셈\n",
    "multiplication = student1 * student2\n",
    "# 나눗셈\n",
    "division = student1 / student2"
   ]
  },
  {
   "cell_type": "code",
   "execution_count": 35,
   "id": "bcee408d",
   "metadata": {},
   "outputs": [
    {
     "data": {
      "text/plain": [
       "국어    1.111111\n",
       "수학    1.125000\n",
       "영어    1.000000\n",
       "dtype: float64"
      ]
     },
     "execution_count": 35,
     "metadata": {},
     "output_type": "execute_result"
    }
   ],
   "source": [
    "division"
   ]
  },
  {
   "cell_type": "code",
   "execution_count": 36,
   "id": "87cb58e8",
   "metadata": {},
   "outputs": [
    {
     "data": {
      "text/html": [
       "<div>\n",
       "<style scoped>\n",
       "    .dataframe tbody tr th:only-of-type {\n",
       "        vertical-align: middle;\n",
       "    }\n",
       "\n",
       "    .dataframe tbody tr th {\n",
       "        vertical-align: top;\n",
       "    }\n",
       "\n",
       "    .dataframe thead th {\n",
       "        text-align: right;\n",
       "    }\n",
       "</style>\n",
       "<table border=\"1\" class=\"dataframe\">\n",
       "  <thead>\n",
       "    <tr style=\"text-align: right;\">\n",
       "      <th></th>\n",
       "      <th>국어</th>\n",
       "      <th>수학</th>\n",
       "      <th>영어</th>\n",
       "    </tr>\n",
       "  </thead>\n",
       "  <tbody>\n",
       "    <tr>\n",
       "      <th>덧셈</th>\n",
       "      <td>190.000000</td>\n",
       "      <td>170.000</td>\n",
       "      <td>160.0</td>\n",
       "    </tr>\n",
       "    <tr>\n",
       "      <th>뺄셈</th>\n",
       "      <td>10.000000</td>\n",
       "      <td>10.000</td>\n",
       "      <td>0.0</td>\n",
       "    </tr>\n",
       "    <tr>\n",
       "      <th>곱셈</th>\n",
       "      <td>9000.000000</td>\n",
       "      <td>7200.000</td>\n",
       "      <td>6400.0</td>\n",
       "    </tr>\n",
       "    <tr>\n",
       "      <th>나눗셈</th>\n",
       "      <td>1.111111</td>\n",
       "      <td>1.125</td>\n",
       "      <td>1.0</td>\n",
       "    </tr>\n",
       "  </tbody>\n",
       "</table>\n",
       "</div>"
      ],
      "text/plain": [
       "              국어        수학      영어\n",
       "덧셈    190.000000   170.000   160.0\n",
       "뺄셈     10.000000    10.000     0.0\n",
       "곱셈   9000.000000  7200.000  6400.0\n",
       "나눗셈     1.111111     1.125     1.0"
      ]
     },
     "execution_count": 36,
     "metadata": {},
     "output_type": "execute_result"
    }
   ],
   "source": [
    "# 사칙연산 결과를 데이터프레임으로 만들기\n",
    "pd.DataFrame(\n",
    "    [\n",
    "        addition, subtraction, multiplication, division\n",
    "    ],\n",
    "    index=['덧셈', '뺄셈','곱셈','나눗셈']\n",
    ")"
   ]
  },
  {
   "cell_type": "markdown",
   "id": "d75777e8",
   "metadata": {},
   "source": [
    "---\n",
    "### NaN(Not a Number : 결측치)값이 있는 연산"
   ]
  },
  {
   "cell_type": "code",
   "execution_count": 37,
   "id": "96c3a39f",
   "metadata": {},
   "outputs": [],
   "source": [
    "import numpy as np"
   ]
  },
  {
   "cell_type": "code",
   "execution_count": 38,
   "id": "dd02b965",
   "metadata": {},
   "outputs": [
    {
     "data": {
      "text/plain": [
       "국어     NaN\n",
       "영어    80.0\n",
       "수학    90.0\n",
       "dtype: float64"
      ]
     },
     "execution_count": 38,
     "metadata": {},
     "output_type": "execute_result"
    }
   ],
   "source": [
    "student1 = pd.Series(\n",
    "    {\n",
    "        '국어' : np.nan,\n",
    "        '영어' : 80,\n",
    "        '수학' : 90\n",
    "    }\n",
    ")\n",
    "student1"
   ]
  },
  {
   "cell_type": "code",
   "execution_count": 39,
   "id": "7f5b871c",
   "metadata": {},
   "outputs": [
    {
     "data": {
      "text/plain": [
       "수학    80\n",
       "국어    90\n",
       "dtype: int64"
      ]
     },
     "execution_count": 39,
     "metadata": {},
     "output_type": "execute_result"
    }
   ],
   "source": [
    "student2 = pd.Series(\n",
    "    {\n",
    "        '수학' : 80,\n",
    "        '국어' : 90,\n",
    "    }\n",
    ")\n",
    "student2"
   ]
  },
  {
   "cell_type": "code",
   "execution_count": 40,
   "id": "69841384",
   "metadata": {},
   "outputs": [
    {
     "data": {
      "text/plain": [
       "국어      NaN\n",
       "수학    170.0\n",
       "영어      NaN\n",
       "dtype: float64"
      ]
     },
     "execution_count": 40,
     "metadata": {},
     "output_type": "execute_result"
    }
   ],
   "source": [
    "# 덧셈\n",
    "addition = student1 + student2\n",
    "addition"
   ]
  },
  {
   "cell_type": "markdown",
   "id": "d61806c2",
   "metadata": {},
   "source": [
    "> 덧셈에서 각 데이터 사이에 공통 인덱스가 없거나 NaN이 포함된 경우 연산 결과는 NaN이다. "
   ]
  },
  {
   "cell_type": "code",
   "execution_count": 41,
   "id": "743540a1",
   "metadata": {},
   "outputs": [],
   "source": [
    "addition = student1.add(student2)\n",
    "subtraction = student1.sub(student2)\n",
    "multiplication = student1.mul(student2)\n",
    "division = student1.div(student2)"
   ]
  },
  {
   "cell_type": "code",
   "execution_count": 42,
   "id": "d7b891e5",
   "metadata": {},
   "outputs": [
    {
     "data": {
      "text/html": [
       "<div>\n",
       "<style scoped>\n",
       "    .dataframe tbody tr th:only-of-type {\n",
       "        vertical-align: middle;\n",
       "    }\n",
       "\n",
       "    .dataframe tbody tr th {\n",
       "        vertical-align: top;\n",
       "    }\n",
       "\n",
       "    .dataframe thead th {\n",
       "        text-align: right;\n",
       "    }\n",
       "</style>\n",
       "<table border=\"1\" class=\"dataframe\">\n",
       "  <thead>\n",
       "    <tr style=\"text-align: right;\">\n",
       "      <th></th>\n",
       "      <th>국어</th>\n",
       "      <th>수학</th>\n",
       "      <th>영어</th>\n",
       "    </tr>\n",
       "  </thead>\n",
       "  <tbody>\n",
       "    <tr>\n",
       "      <th>덧셈</th>\n",
       "      <td>NaN</td>\n",
       "      <td>170.000</td>\n",
       "      <td>NaN</td>\n",
       "    </tr>\n",
       "    <tr>\n",
       "      <th>뺄셈</th>\n",
       "      <td>NaN</td>\n",
       "      <td>10.000</td>\n",
       "      <td>NaN</td>\n",
       "    </tr>\n",
       "    <tr>\n",
       "      <th>곱셈</th>\n",
       "      <td>NaN</td>\n",
       "      <td>7200.000</td>\n",
       "      <td>NaN</td>\n",
       "    </tr>\n",
       "    <tr>\n",
       "      <th>나눗셈</th>\n",
       "      <td>NaN</td>\n",
       "      <td>1.125</td>\n",
       "      <td>NaN</td>\n",
       "    </tr>\n",
       "  </tbody>\n",
       "</table>\n",
       "</div>"
      ],
      "text/plain": [
       "     국어        수학  영어\n",
       "덧셈  NaN   170.000 NaN\n",
       "뺄셈  NaN    10.000 NaN\n",
       "곱셈  NaN  7200.000 NaN\n",
       "나눗셈 NaN     1.125 NaN"
      ]
     },
     "execution_count": 42,
     "metadata": {},
     "output_type": "execute_result"
    }
   ],
   "source": [
    "# 사칙연산 결과를 데이터프레임으로 만들기\n",
    "pd.DataFrame(\n",
    "    [\n",
    "        addition, subtraction, multiplication, division\n",
    "    ],\n",
    "    index=['덧셈', '뺄셈','곱셈','나눗셈']\n",
    ")"
   ]
  },
  {
   "cell_type": "markdown",
   "id": "e563d192",
   "metadata": {},
   "source": [
    "### NaN의 경우를 0으로 대체하여 연산한다."
   ]
  },
  {
   "cell_type": "code",
   "execution_count": 43,
   "id": "b853189b",
   "metadata": {},
   "outputs": [],
   "source": [
    "addition = student1.add(student2, fill_value=0)\n",
    "subtraction = student1.sub(student2, fill_value=0)\n",
    "multiplication = student1.mul(student2, fill_value=0)\n",
    "division = student1.div(student2, fill_value=0)"
   ]
  },
  {
   "cell_type": "code",
   "execution_count": 44,
   "id": "88453983",
   "metadata": {},
   "outputs": [
    {
     "data": {
      "text/html": [
       "<div>\n",
       "<style scoped>\n",
       "    .dataframe tbody tr th:only-of-type {\n",
       "        vertical-align: middle;\n",
       "    }\n",
       "\n",
       "    .dataframe tbody tr th {\n",
       "        vertical-align: top;\n",
       "    }\n",
       "\n",
       "    .dataframe thead th {\n",
       "        text-align: right;\n",
       "    }\n",
       "</style>\n",
       "<table border=\"1\" class=\"dataframe\">\n",
       "  <thead>\n",
       "    <tr style=\"text-align: right;\">\n",
       "      <th></th>\n",
       "      <th>국어</th>\n",
       "      <th>수학</th>\n",
       "      <th>영어</th>\n",
       "    </tr>\n",
       "  </thead>\n",
       "  <tbody>\n",
       "    <tr>\n",
       "      <th>덧셈</th>\n",
       "      <td>90.0</td>\n",
       "      <td>170.000</td>\n",
       "      <td>80.0</td>\n",
       "    </tr>\n",
       "    <tr>\n",
       "      <th>뺄셈</th>\n",
       "      <td>-90.0</td>\n",
       "      <td>10.000</td>\n",
       "      <td>80.0</td>\n",
       "    </tr>\n",
       "    <tr>\n",
       "      <th>곱셈</th>\n",
       "      <td>0.0</td>\n",
       "      <td>7200.000</td>\n",
       "      <td>0.0</td>\n",
       "    </tr>\n",
       "    <tr>\n",
       "      <th>나눗셈</th>\n",
       "      <td>0.0</td>\n",
       "      <td>1.125</td>\n",
       "      <td>inf</td>\n",
       "    </tr>\n",
       "  </tbody>\n",
       "</table>\n",
       "</div>"
      ],
      "text/plain": [
       "       국어        수학    영어\n",
       "덧셈   90.0   170.000  80.0\n",
       "뺄셈  -90.0    10.000  80.0\n",
       "곱셈    0.0  7200.000   0.0\n",
       "나눗셈   0.0     1.125   inf"
      ]
     },
     "execution_count": 44,
     "metadata": {},
     "output_type": "execute_result"
    }
   ],
   "source": [
    "# 사칙연산 결과를 데이터프레임으로 만들기\n",
    "pd.DataFrame(\n",
    "    [\n",
    "        addition, subtraction, multiplication, division\n",
    "    ],\n",
    "    index=['덧셈', '뺄셈','곱셈','나눗셈']\n",
    ")"
   ]
  },
  {
   "cell_type": "markdown",
   "id": "4c6a1359",
   "metadata": {},
   "source": [
    "> inf(infinity:무한대) : 나눗셈 80/0 "
   ]
  },
  {
   "cell_type": "code",
   "execution_count": null,
   "id": "c89e8af9",
   "metadata": {},
   "outputs": [],
   "source": []
  }
 ],
 "metadata": {
  "kernelspec": {
   "display_name": "base",
   "language": "python",
   "name": "python3"
  },
  "language_info": {
   "codemirror_mode": {
    "name": "ipython",
    "version": 3
   },
   "file_extension": ".py",
   "mimetype": "text/x-python",
   "name": "python",
   "nbconvert_exporter": "python",
   "pygments_lexer": "ipython3",
   "version": "3.12.7"
  }
 },
 "nbformat": 4,
 "nbformat_minor": 5
}
