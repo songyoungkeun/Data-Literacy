{
 "cells": [
  {
   "cell_type": "code",
   "execution_count": 2,
   "metadata": {},
   "outputs": [
    {
     "name": "stdout",
     "output_type": "stream",
     "text": [
      "Hello World!\n",
      "\n",
      "Nice\t\t meet you.\n"
     ]
    }
   ],
   "source": [
    "# 특수 문자 : \\n (new line), \\t(tab)\n",
    "var01 = \"Hello World!\\n\\nNice\\t\\t meet you.\"\n",
    "print(var01)"
   ]
  },
  {
   "cell_type": "code",
   "execution_count": 4,
   "metadata": {},
   "outputs": [
    {
     "name": "stdout",
     "output_type": "stream",
     "text": [
      "My father's wife is my mother.\n",
      "He says \"I love you.\"\n"
     ]
    }
   ],
   "source": [
    "# 쌍따옴표와 홑따옴표의 사용\n",
    "print(\"My father's wife is my mother.\")\n",
    "print('He says \"I love you.\"')"
   ]
  },
  {
   "cell_type": "code",
   "execution_count": 6,
   "metadata": {},
   "outputs": [
    {
     "name": "stdout",
     "output_type": "stream",
     "text": [
      "Python is fun.\n",
      "Pythonis fun.\n"
     ]
    }
   ],
   "source": [
    "# 문자열 연산(덧셈)\n",
    "var01 = \"Python\"\n",
    "var02 = \"is fun.\"\n",
    "\n",
    "print(var01, var02)\n",
    "print(var01 + var02)"
   ]
  },
  {
   "cell_type": "code",
   "execution_count": 7,
   "metadata": {},
   "outputs": [
    {
     "name": "stdout",
     "output_type": "stream",
     "text": [
      "PythonPythonPython\n"
     ]
    }
   ],
   "source": [
    "# 문자열 연산(곱셈)\n",
    "var01 = 'Python'\n",
    "print(var01 * 3)"
   ]
  },
  {
   "cell_type": "code",
   "execution_count": 14,
   "metadata": {},
   "outputs": [
    {
     "name": "stdout",
     "output_type": "stream",
     "text": [
      "010-1111-2222\n"
     ]
    }
   ],
   "source": [
    "print(\"010\", \"1111\", \"2222\", sep=\"-\")"
   ]
  },
  {
   "cell_type": "code",
   "execution_count": 18,
   "metadata": {},
   "outputs": [
    {
     "name": "stdout",
     "output_type": "stream",
     "text": [
      "Lee Jin Ho\n"
     ]
    }
   ],
   "source": [
    "print(\"Lee\", end=\" \")\n",
    "print(\"Jin Ho\")"
   ]
  },
  {
   "cell_type": "code",
   "execution_count": 21,
   "metadata": {},
   "outputs": [
    {
     "name": "stdout",
     "output_type": "stream",
     "text": [
      "====================\n",
      "Python\n",
      "====================\n"
     ]
    }
   ],
   "source": [
    "print(\"=\" * 20)\n",
    "print(\"Python\")\n",
    "print(\"=\" * 20)"
   ]
  },
  {
   "cell_type": "code",
   "execution_count": 25,
   "metadata": {},
   "outputs": [
    {
     "name": "stdout",
     "output_type": "stream",
     "text": [
      "====================\n",
      "Python\n",
      "====================\n"
     ]
    }
   ],
   "source": [
    "# Ex : 위의 결과를 print() 하나로 작성하기\n",
    "print(\"=\" * 20, \"Python\", \"=\" * 20, sep=\"\\n\")"
   ]
  },
  {
   "cell_type": "markdown",
   "metadata": {},
   "source": [
    "---\n",
    "## 문자열의 indexing과 slicing"
   ]
  },
  {
   "cell_type": "code",
   "execution_count": 34,
   "metadata": {},
   "outputs": [
    {
     "name": "stdout",
     "output_type": "stream",
     "text": [
      "abcdefghijklmn\n",
      "a\n",
      "b\n",
      "abc\n",
      "abc\n",
      "abcde\n",
      "fghijklmn\n",
      "n\n",
      "fghijkl\n"
     ]
    }
   ],
   "source": [
    "str = \"abcdefghijklmn\"\n",
    "\n",
    "print(str)\n",
    "print(str[0]) # index번호 0번 사용 \n",
    "print(str[1])\n",
    "print(str[0:2+1]) # slicing 사용\n",
    "print(str[:2+1])\n",
    "print(str[:4+1])\n",
    "print(str[5:])\n",
    "print(str[-1])\n",
    "\n",
    "# Ex : fghijkl\n",
    "print(str[5:-2])"
   ]
  },
  {
   "cell_type": "code",
   "execution_count": 35,
   "metadata": {},
   "outputs": [
    {
     "name": "stdout",
     "output_type": "stream",
     "text": [
      "2025 1231 snow\n"
     ]
    }
   ],
   "source": [
    "# Ex \n",
    "str = \"20251231snow\"\n",
    "year = str[:4]\n",
    "month_day = str[4:-4]\n",
    "weather = str[-4:]\n",
    "print(year, month_day, weather) # 2025 1231 snow "
   ]
  },
  {
   "cell_type": "markdown",
   "metadata": {},
   "source": [
    "### 문자열 formatting"
   ]
  },
  {
   "cell_type": "code",
   "execution_count": 43,
   "metadata": {},
   "outputs": [
    {
     "name": "stdout",
     "output_type": "stream",
     "text": [
      "I have 2 apples.\n",
      "I have 2 apples.\n",
      "I have     2 apples.\n",
      "I have 2     apples.\n",
      "I have 00002 apples.\n"
     ]
    }
   ],
   "source": [
    "# 정수형 formatting(%d)\n",
    "count = 2\n",
    "# I have 2 apples.\n",
    "print(\"I have\", count, \"apples.\")\n",
    "print(\"I have %d apples.\"%count)\n",
    "print(\"I have %5d apples.\"%count) # 우측 정렬 \n",
    "print(\"I have %-5d apples.\"%count) # 좌측 정렬 \n",
    "print(\"I have %05d apples.\"%count) # 빈곳을 0으로 채우기 "
   ]
  },
  {
   "cell_type": "code",
   "execution_count": 45,
   "metadata": {},
   "outputs": [
    {
     "name": "stdout",
     "output_type": "stream",
     "text": [
      "I have two apples.\n",
      "I have two apples.\n",
      "I have   two apples.\n",
      "I have two   apples.\n"
     ]
    }
   ],
   "source": [
    "# 문자형 formatting(%s)\n",
    "count = \"two\"\n",
    "# I have 2 apples.\n",
    "print(\"I have\", count, \"apples.\")\n",
    "print(\"I have %s apples.\"%count)\n",
    "print(\"I have %5s apples.\"%count) # 우측 정렬 \n",
    "print(\"I have %-5s apples.\"%count) # 좌측 정렬 "
   ]
  },
  {
   "cell_type": "code",
   "execution_count": 46,
   "metadata": {},
   "outputs": [
    {
     "name": "stdout",
     "output_type": "stream",
     "text": [
      "I have 2 apple.\n"
     ]
    }
   ],
   "source": [
    "# 혼합형 formatting : I have 2 apples.\n",
    "count = 2\n",
    "fruit = 'apple'\n",
    "\n",
    "print(\"I have %d %s.\"%(count, fruit))"
   ]
  },
  {
   "cell_type": "code",
   "execution_count": 49,
   "metadata": {},
   "outputs": [
    {
     "name": "stdout",
     "output_type": "stream",
     "text": [
      "--------------------\n",
      "3.1416\n",
      "    3.1416\n"
     ]
    }
   ],
   "source": [
    "# 실수형 \n",
    "print(\"-\"*20)\n",
    "print(\"%.4f\"%3.14159) # 좌측정렬\n",
    "print(\"%10.4f\"%3.14159) # 우측정렬"
   ]
  },
  {
   "cell_type": "markdown",
   "metadata": {},
   "source": [
    "---\n",
    "## f-string 포맷팅 (String Interpolation)\n",
    ": python 3.8 이상"
   ]
  },
  {
   "cell_type": "code",
   "execution_count": 50,
   "metadata": {},
   "outputs": [
    {
     "data": {
      "text/plain": [
       "'3.12.4 | packaged by Anaconda, Inc. | (main, Jun 18 2024, 15:03:56) [MSC v.1929 64 bit (AMD64)]'"
      ]
     },
     "execution_count": 50,
     "metadata": {},
     "output_type": "execute_result"
    }
   ],
   "source": [
    "# 현재 version 확인\n",
    "import sys\n",
    "sys.version"
   ]
  },
  {
   "cell_type": "code",
   "execution_count": 51,
   "metadata": {},
   "outputs": [
    {
     "name": "stdout",
     "output_type": "stream",
     "text": [
      "I have 2 apples.\n"
     ]
    }
   ],
   "source": [
    "# f-string : I have 2 apples.\n",
    "count = 2\n",
    "fruit = 'apples'\n",
    "\n",
    "print(f\"I have {count} {fruit}.\")"
   ]
  },
  {
   "cell_type": "code",
   "execution_count": 52,
   "metadata": {},
   "outputs": [
    {
     "name": "stdout",
     "output_type": "stream",
     "text": [
      "홍길동의 나이는 32세 입니다.\n"
     ]
    }
   ],
   "source": [
    "# Ex : 홍길동의 나이는 32세 입니다. \n",
    "name = \"홍길동\"\n",
    "age = 32\n",
    "\n",
    "print(f\"{name}의 나이는 {age}세 입니다.\")"
   ]
  },
  {
   "cell_type": "markdown",
   "metadata": {},
   "source": [
    "### 정렬"
   ]
  },
  {
   "cell_type": "code",
   "execution_count": 53,
   "metadata": {},
   "outputs": [],
   "source": [
    "number = 1234567"
   ]
  },
  {
   "cell_type": "code",
   "execution_count": 55,
   "metadata": {},
   "outputs": [
    {
     "data": {
      "text/plain": [
       "'1234567             '"
      ]
     },
     "execution_count": 55,
     "metadata": {},
     "output_type": "execute_result"
    }
   ],
   "source": [
    "# 좌측 정렬\n",
    "f\"{number:<20}\""
   ]
  },
  {
   "cell_type": "code",
   "execution_count": 56,
   "metadata": {},
   "outputs": [
    {
     "data": {
      "text/plain": [
       "'             1234567'"
      ]
     },
     "execution_count": 56,
     "metadata": {},
     "output_type": "execute_result"
    }
   ],
   "source": [
    "# 우측 정렬\n",
    "f\"{number:>20}\""
   ]
  },
  {
   "cell_type": "code",
   "execution_count": 57,
   "metadata": {},
   "outputs": [
    {
     "data": {
      "text/plain": [
       "'      1234567       '"
      ]
     },
     "execution_count": 57,
     "metadata": {},
     "output_type": "execute_result"
    }
   ],
   "source": [
    "# 가운데 정렬\n",
    "f\"{number:^20}\""
   ]
  },
  {
   "cell_type": "code",
   "execution_count": 62,
   "metadata": {},
   "outputs": [
    {
     "data": {
      "text/plain": [
       "'00000000000001234567'"
      ]
     },
     "execution_count": 62,
     "metadata": {},
     "output_type": "execute_result"
    }
   ],
   "source": [
    "# 빈칸 채우기\n",
    "f\"{number:0>20}\""
   ]
  },
  {
   "cell_type": "code",
   "execution_count": 64,
   "metadata": {},
   "outputs": [
    {
     "data": {
      "text/plain": [
       "'1,234,567'"
      ]
     },
     "execution_count": 64,
     "metadata": {},
     "output_type": "execute_result"
    }
   ],
   "source": [
    "# 천단위 쉼표\n",
    "f\"{number:,}\""
   ]
  },
  {
   "cell_type": "code",
   "execution_count": 70,
   "metadata": {},
   "outputs": [
    {
     "data": {
      "text/plain": [
       "'[-----1,234,567------]'"
      ]
     },
     "execution_count": 70,
     "metadata": {},
     "output_type": "execute_result"
    }
   ],
   "source": [
    "# Ex : [-----1,234,567-----]\n",
    "f'[{number:-^20,}]'"
   ]
  },
  {
   "cell_type": "markdown",
   "metadata": {},
   "source": [
    "---\n",
    "### 문자열 관련 함수"
   ]
  },
  {
   "cell_type": "code",
   "execution_count": 76,
   "metadata": {},
   "outputs": [
    {
     "name": "stdout",
     "output_type": "stream",
     "text": [
      "15\n",
      "8\n",
      "3\n",
      "1\n",
      "1\n"
     ]
    }
   ],
   "source": [
    "# 문자의 글자 갯수\n",
    "str = \"I have a dream.\"\n",
    "print(len(str))\n",
    "\n",
    "str1 = \"대한민국 만세.\"\n",
    "print(len(str1))\n",
    "\n",
    "# str에서 a의 글자갯수 ?\n",
    "print(str.count('a'))\n",
    "print(str.count('dream'))\n",
    "print(str1.count('만세'))\n"
   ]
  },
  {
   "cell_type": "code",
   "execution_count": 77,
   "metadata": {},
   "outputs": [
    {
     "name": "stdout",
     "output_type": "stream",
     "text": [
      "5\n"
     ]
    }
   ],
   "source": [
    "# 문자 위치 알려주기\n",
    "print(str.find('e'))"
   ]
  },
  {
   "cell_type": "code",
   "execution_count": 78,
   "metadata": {},
   "outputs": [
    {
     "data": {
      "text/plain": [
       "'I/ /h/a/v/e/ /a/ /d/r/e/a/m/.'"
      ]
     },
     "execution_count": 78,
     "metadata": {},
     "output_type": "execute_result"
    }
   ],
   "source": [
    "# 문자열 삽입\n",
    "insertMark = \"/\"\n",
    "insertMark.join(str)"
   ]
  },
  {
   "cell_type": "code",
   "execution_count": 81,
   "metadata": {},
   "outputs": [],
   "source": [
    "# 소문자를 대문자로 바꾸기\n",
    "str = 'hi'\n",
    "str = str.upper()"
   ]
  },
  {
   "cell_type": "code",
   "execution_count": 82,
   "metadata": {},
   "outputs": [
    {
     "data": {
      "text/plain": [
       "'HI'"
      ]
     },
     "execution_count": 82,
     "metadata": {},
     "output_type": "execute_result"
    }
   ],
   "source": [
    "str"
   ]
  },
  {
   "cell_type": "code",
   "execution_count": 83,
   "metadata": {},
   "outputs": [
    {
     "data": {
      "text/plain": [
       "'hi'"
      ]
     },
     "execution_count": 83,
     "metadata": {},
     "output_type": "execute_result"
    }
   ],
   "source": [
    "# 대문자를 소문자로 바꾸기\n",
    "str = str.lower()\n",
    "str"
   ]
  },
  {
   "cell_type": "code",
   "execution_count": 85,
   "metadata": {},
   "outputs": [
    {
     "name": "stdout",
     "output_type": "stream",
     "text": [
      "                hi\n"
     ]
    },
    {
     "data": {
      "text/plain": [
       "'hi'"
      ]
     },
     "execution_count": 85,
     "metadata": {},
     "output_type": "execute_result"
    }
   ],
   "source": [
    "# 왼쪽 공백 지우기\n",
    "str = \"                hi\"\n",
    "print(str)\n",
    "str = str.lstrip()\n",
    "str"
   ]
  },
  {
   "cell_type": "code",
   "execution_count": 86,
   "metadata": {},
   "outputs": [
    {
     "name": "stdout",
     "output_type": "stream",
     "text": [
      "hi            \n"
     ]
    },
    {
     "data": {
      "text/plain": [
       "'hi'"
      ]
     },
     "execution_count": 86,
     "metadata": {},
     "output_type": "execute_result"
    }
   ],
   "source": [
    "# 왼쪽 공백 지우기\n",
    "str = \"hi            \"\n",
    "print(str)\n",
    "str = str.rstrip()\n",
    "str"
   ]
  },
  {
   "cell_type": "code",
   "execution_count": 91,
   "metadata": {},
   "outputs": [
    {
     "name": "stdout",
     "output_type": "stream",
     "text": [
      "             hi              \n"
     ]
    },
    {
     "data": {
      "text/plain": [
       "'hi'"
      ]
     },
     "execution_count": 91,
     "metadata": {},
     "output_type": "execute_result"
    }
   ],
   "source": [
    "# 양쪽 공백 지우기\n",
    "str = \"             hi              \"\n",
    "print(str)\n",
    "str = str.strip()\n",
    "str"
   ]
  },
  {
   "cell_type": "code",
   "execution_count": 92,
   "metadata": {},
   "outputs": [
    {
     "data": {
      "text/plain": [
       "'Life is too short to be unhappy.'"
      ]
     },
     "execution_count": 92,
     "metadata": {},
     "output_type": "execute_result"
    }
   ],
   "source": [
    "# 문자열 바꾸기 : happy -> unhappy\n",
    "str = \"Life is too short to be happy.\"\n",
    "str.replace('happy', 'unhappy')"
   ]
  },
  {
   "cell_type": "code",
   "execution_count": 96,
   "metadata": {},
   "outputs": [
    {
     "name": "stdout",
     "output_type": "stream",
     "text": [
      "apple\n",
      "banana\n",
      "melon\n",
      "apple, banana, melon\n"
     ]
    }
   ],
   "source": [
    "# Ex: 출력시 apple, banana, melon 으로 출력하기\n",
    "str = \"apple\\nbanana\\nmelon\"\n",
    "print(str)\n",
    "str = str.replace(\"\\n\", \", \")\n",
    "print(str)"
   ]
  },
  {
   "cell_type": "code",
   "execution_count": 98,
   "metadata": {},
   "outputs": [
    {
     "name": "stdout",
     "output_type": "stream",
     "text": [
      "Life\n"
     ]
    }
   ],
   "source": [
    "# 문자열 나누기 \n",
    "str = \"Life is too short to be happy.\"\n",
    "list01 = str.split() # \" \" 중심으로 분리 \n",
    "print(list01[0])"
   ]
  },
  {
   "cell_type": "code",
   "execution_count": 100,
   "metadata": {},
   "outputs": [
    {
     "data": {
      "text/plain": [
       "['a', 'b', 'c', 'd']"
      ]
     },
     "execution_count": 100,
     "metadata": {},
     "output_type": "execute_result"
    }
   ],
   "source": [
    "str02 = 'a:b:c:d'\n",
    "str02.split(':') # : 기준으로 데이터 분리하기 "
   ]
  },
  {
   "cell_type": "code",
   "execution_count": 110,
   "metadata": {},
   "outputs": [
    {
     "data": {
      "text/plain": [
       "['a', 'b', 'c', 'd']"
      ]
     },
     "execution_count": 110,
     "metadata": {},
     "output_type": "execute_result"
    }
   ],
   "source": [
    "str02 = \"a:b:c/d\"\n",
    "str02.replace(\"/\", \":\").split(\":\")"
   ]
  },
  {
   "cell_type": "markdown",
   "metadata": {},
   "source": [
    "---\n",
    "### 날짜형 변환"
   ]
  },
  {
   "cell_type": "code",
   "execution_count": 111,
   "metadata": {},
   "outputs": [],
   "source": [
    "# 날짜형 모듈 \n",
    "from datetime import datetime, timedelta"
   ]
  },
  {
   "cell_type": "code",
   "execution_count": 113,
   "metadata": {},
   "outputs": [
    {
     "name": "stdout",
     "output_type": "stream",
     "text": [
      "2025-12-25 00:00:00\n",
      "<class 'datetime.datetime'>\n"
     ]
    }
   ],
   "source": [
    "time1 = datetime(2025,12,25,0,0,0)\n",
    "print(time1)\n",
    "print(type(time1))"
   ]
  },
  {
   "cell_type": "code",
   "execution_count": 116,
   "metadata": {},
   "outputs": [
    {
     "name": "stdout",
     "output_type": "stream",
     "text": [
      "2025-04-27 14:06:43.252459\n",
      "241 days, 9:53:16.747541\n",
      "두 날짜의 차이는 241일 입니다.\n"
     ]
    }
   ],
   "source": [
    "# 날짜 계산하기\n",
    "time2 = datetime.now()\n",
    "print(time2)\n",
    "print(time1 - time2)\n",
    "print(f\"두 날짜의 차이는 {(time1-time2).days}일 입니다.\")"
   ]
  },
  {
   "cell_type": "code",
   "execution_count": 120,
   "metadata": {},
   "outputs": [
    {
     "name": "stdout",
     "output_type": "stream",
     "text": [
      "현재 일부터 5일 뒤는 2025-05-02 14:06:43.252459 입니다.\n",
      "현재 일부터 3일 전은 2025-04-24 14:06:43.252459 입니다.\n",
      "현재 일부터 3일 전은 2025-04-24 14:06:43.252459 입니다.\n",
      "현재 일부터 1일 뒤의 2시간 전은 2025-04-28 12:06:43.252459 입니다.\n"
     ]
    }
   ],
   "source": [
    "# 특정 날짜\n",
    "print(f\"현재 일부터 5일 뒤는 {time2 + timedelta(days=5)} 입니다.\")\n",
    "print(f\"현재 일부터 3일 전은 {time2 + timedelta(days=-3)} 입니다.\")\n",
    "print(f\"현재 일부터 3일 전은 {time2 - timedelta(days=3)} 입니다.\")\n",
    "print(f\"현재 일부터 1일 뒤의 2시간 전은 {time2 + timedelta(days=1, hours=-2)} 입니다.\")"
   ]
  },
  {
   "cell_type": "code",
   "execution_count": null,
   "metadata": {},
   "outputs": [],
   "source": []
  }
 ],
 "metadata": {
  "kernelspec": {
   "display_name": "base",
   "language": "python",
   "name": "python3"
  },
  "language_info": {
   "codemirror_mode": {
    "name": "ipython",
    "version": 3
   },
   "file_extension": ".py",
   "mimetype": "text/x-python",
   "name": "python",
   "nbconvert_exporter": "python",
   "pygments_lexer": "ipython3",
   "version": "3.12.4"
  }
 },
 "nbformat": 4,
 "nbformat_minor": 2
}
