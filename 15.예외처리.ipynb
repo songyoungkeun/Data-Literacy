{
 "cells": [
  {
   "cell_type": "markdown",
   "id": "a9b53d8c",
   "metadata": {},
   "source": [
    "### 예외 처리"
   ]
  },
  {
   "cell_type": "code",
   "execution_count": 8,
   "id": "b505e460",
   "metadata": {},
   "outputs": [
    {
     "name": "stdout",
     "output_type": "stream",
     "text": [
      "3\n",
      "3\n",
      "0\n",
      "division by zero\n"
     ]
    }
   ],
   "source": [
    "num1 = 3\n",
    "num2 = 0\n",
    "print(num1 + num2)\n",
    "print(num1 - num2)\n",
    "print(num1 * num2)\n",
    "\n",
    "try:\n",
    "    print(num1 / num2)\n",
    "except Exception as e:\n",
    "    print(e)\n",
    "    pass"
   ]
  },
  {
   "cell_type": "code",
   "execution_count": null,
   "id": "64adf0a3",
   "metadata": {},
   "outputs": [],
   "source": []
  }
 ],
 "metadata": {
  "kernelspec": {
   "display_name": "base",
   "language": "python",
   "name": "python3"
  },
  "language_info": {
   "codemirror_mode": {
    "name": "ipython",
    "version": 3
   },
   "file_extension": ".py",
   "mimetype": "text/x-python",
   "name": "python",
   "nbconvert_exporter": "python",
   "pygments_lexer": "ipython3",
   "version": "3.12.7"
  }
 },
 "nbformat": 4,
 "nbformat_minor": 5
}
