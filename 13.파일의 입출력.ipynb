{
 "cells": [
  {
   "cell_type": "markdown",
   "id": "60e4be87",
   "metadata": {},
   "source": [
    "### 파일 읽고 쓰기"
   ]
  },
  {
   "cell_type": "code",
   "execution_count": 1,
   "id": "14f4a3dd",
   "metadata": {},
   "outputs": [],
   "source": [
    "# 파일을 쓰기모드로 열어 출력값 저장하기\n",
    "f = open(\"../Data/new.txt\", \"w\")\n",
    "for i in range(1, 10+1):\n",
    "    data = f\"{i}번째 줄 입니다.\\n\"\n",
    "    f.write(data)\n",
    "\n",
    "f.close()"
   ]
  },
  {
   "cell_type": "code",
   "execution_count": 3,
   "id": "aa984142",
   "metadata": {},
   "outputs": [
    {
     "name": "stdout",
     "output_type": "stream",
     "text": [
      "1번째 줄 입니다.\n",
      "2번째 줄 입니다.\n",
      "3번째 줄 입니다.\n",
      "4번째 줄 입니다.\n",
      "5번째 줄 입니다.\n",
      "6번째 줄 입니다.\n",
      "7번째 줄 입니다.\n",
      "8번째 줄 입니다.\n",
      "9번째 줄 입니다.\n",
      "10번째 줄 입니다.\n"
     ]
    }
   ],
   "source": [
    "# 파일을 읽기 모드로 열어 파일 내용 출력하기 - 1\n",
    "f = open(\"../Data/new.txt\", \"r\")\n",
    "while True:\n",
    "    line = f.readline()\n",
    "    if not line:\n",
    "        break\n",
    "    print(line, end=\"\")\n",
    "f.close()"
   ]
  },
  {
   "cell_type": "code",
   "execution_count": 4,
   "id": "553f7e20",
   "metadata": {},
   "outputs": [
    {
     "name": "stdout",
     "output_type": "stream",
     "text": [
      "1번째 줄 입니다.\n",
      "2번째 줄 입니다.\n",
      "3번째 줄 입니다.\n",
      "4번째 줄 입니다.\n",
      "5번째 줄 입니다.\n",
      "6번째 줄 입니다.\n",
      "7번째 줄 입니다.\n",
      "8번째 줄 입니다.\n",
      "9번째 줄 입니다.\n",
      "10번째 줄 입니다.\n"
     ]
    }
   ],
   "source": [
    "# 파일을 읽기 모드로 열어 파일 내용 출력하기 - 2\n",
    "f = open(\"../Data/new.txt\", \"r\")\n",
    "lines = f.readlines()\n",
    "f.close()\n",
    "\n",
    "for line in lines:\n",
    "    print(line, end=\"\")"
   ]
  },
  {
   "cell_type": "code",
   "execution_count": 5,
   "id": "d79c9d5f",
   "metadata": {},
   "outputs": [
    {
     "name": "stdout",
     "output_type": "stream",
     "text": [
      "1번째 줄 입니다.\n",
      "2번째 줄 입니다.\n",
      "3번째 줄 입니다.\n",
      "4번째 줄 입니다.\n",
      "5번째 줄 입니다.\n",
      "6번째 줄 입니다.\n",
      "7번째 줄 입니다.\n",
      "8번째 줄 입니다.\n",
      "9번째 줄 입니다.\n",
      "10번째 줄 입니다.\n",
      "\n"
     ]
    }
   ],
   "source": [
    "# 파일을 읽기 모드로 열어 파일 내용 출력하기 - 3\n",
    "f = open(\"../Data/new.txt\", \"r\")\n",
    "data = f.read()\n",
    "f.close()\n",
    "\n",
    "print(data)"
   ]
  },
  {
   "cell_type": "code",
   "execution_count": 6,
   "id": "8ce671f3",
   "metadata": {},
   "outputs": [],
   "source": [
    "# 파일에 새로운 내용 추가하기\n",
    "f = open(\"../Data/new.txt\", \"a\")\n",
    "for i in range(11, 20+1):\n",
    "    data = f\"{i}번째 줄 입니다.\\n\"\n",
    "    f.write(data)\n",
    "\n",
    "f.close()"
   ]
  },
  {
   "cell_type": "code",
   "execution_count": 7,
   "id": "7bc11188",
   "metadata": {},
   "outputs": [
    {
     "name": "stdout",
     "output_type": "stream",
     "text": [
      "1번째 줄 입니다.\n",
      "2번째 줄 입니다.\n",
      "3번째 줄 입니다.\n",
      "4번째 줄 입니다.\n",
      "5번째 줄 입니다.\n",
      "6번째 줄 입니다.\n",
      "7번째 줄 입니다.\n",
      "8번째 줄 입니다.\n",
      "9번째 줄 입니다.\n",
      "10번째 줄 입니다.\n",
      "11번째 줄 입니다.\n",
      "12번째 줄 입니다.\n",
      "13번째 줄 입니다.\n",
      "14번째 줄 입니다.\n",
      "15번째 줄 입니다.\n",
      "16번째 줄 입니다.\n",
      "17번째 줄 입니다.\n",
      "18번째 줄 입니다.\n",
      "19번째 줄 입니다.\n",
      "20번째 줄 입니다.\n",
      "\n"
     ]
    }
   ],
   "source": [
    "# 파일을 읽기 모드로 열어 파일 내용 출력하기 - 3\n",
    "f = open(\"../Data/new.txt\", \"r\")\n",
    "data = f.read()\n",
    "f.close()\n",
    "\n",
    "print(data)"
   ]
  },
  {
   "cell_type": "markdown",
   "id": "622d1a09",
   "metadata": {},
   "source": [
    "### with문\n",
    ": 파일을 열고 닫음을 자동처리, with문 밖으로 나가면 자동 close()"
   ]
  },
  {
   "cell_type": "code",
   "execution_count": 8,
   "id": "af0e6afa",
   "metadata": {},
   "outputs": [],
   "source": [
    "# 파일에 저장하기\n",
    "with open(\"../Data/new2.txt\", \"w\") as f:\n",
    "    for i in range(1, 10+1):\n",
    "        f.write(f\"{i}번째 줄 입니다.\\n\")\n"
   ]
  },
  {
   "cell_type": "code",
   "execution_count": 9,
   "id": "27f2bea2",
   "metadata": {},
   "outputs": [
    {
     "name": "stdout",
     "output_type": "stream",
     "text": [
      "1번째 줄 입니다.\n",
      "2번째 줄 입니다.\n",
      "3번째 줄 입니다.\n",
      "4번째 줄 입니다.\n",
      "5번째 줄 입니다.\n",
      "6번째 줄 입니다.\n",
      "7번째 줄 입니다.\n",
      "8번째 줄 입니다.\n",
      "9번째 줄 입니다.\n",
      "10번째 줄 입니다.\n",
      "\n"
     ]
    }
   ],
   "source": [
    "# 파일 불러오기\n",
    "with open(\"../Data/new2.txt\" ,\"r\") as f:\n",
    "    print(f.read())"
   ]
  },
  {
   "cell_type": "markdown",
   "id": "dada706e",
   "metadata": {},
   "source": [
    "---\n",
    "### Pandas로 불러오기"
   ]
  },
  {
   "cell_type": "code",
   "execution_count": 10,
   "id": "2db811e9",
   "metadata": {},
   "outputs": [],
   "source": [
    "import pandas as pd"
   ]
  },
  {
   "cell_type": "code",
   "execution_count": 14,
   "id": "43e50b91",
   "metadata": {},
   "outputs": [
    {
     "data": {
      "text/html": [
       "<div>\n",
       "<style scoped>\n",
       "    .dataframe tbody tr th:only-of-type {\n",
       "        vertical-align: middle;\n",
       "    }\n",
       "\n",
       "    .dataframe tbody tr th {\n",
       "        vertical-align: top;\n",
       "    }\n",
       "\n",
       "    .dataframe thead th {\n",
       "        text-align: right;\n",
       "    }\n",
       "</style>\n",
       "<table border=\"1\" class=\"dataframe\">\n",
       "  <thead>\n",
       "    <tr style=\"text-align: right;\">\n",
       "      <th></th>\n",
       "      <th>0</th>\n",
       "    </tr>\n",
       "  </thead>\n",
       "  <tbody>\n",
       "    <tr>\n",
       "      <th>15</th>\n",
       "      <td>16번째 줄 입니다.</td>\n",
       "    </tr>\n",
       "    <tr>\n",
       "      <th>16</th>\n",
       "      <td>17번째 줄 입니다.</td>\n",
       "    </tr>\n",
       "    <tr>\n",
       "      <th>17</th>\n",
       "      <td>18번째 줄 입니다.</td>\n",
       "    </tr>\n",
       "    <tr>\n",
       "      <th>18</th>\n",
       "      <td>19번째 줄 입니다.</td>\n",
       "    </tr>\n",
       "    <tr>\n",
       "      <th>19</th>\n",
       "      <td>20번째 줄 입니다.</td>\n",
       "    </tr>\n",
       "  </tbody>\n",
       "</table>\n",
       "</div>"
      ],
      "text/plain": [
       "              0\n",
       "15  16번째 줄 입니다.\n",
       "16  17번째 줄 입니다.\n",
       "17  18번째 줄 입니다.\n",
       "18  19번째 줄 입니다.\n",
       "19  20번째 줄 입니다."
      ]
     },
     "execution_count": 14,
     "metadata": {},
     "output_type": "execute_result"
    }
   ],
   "source": [
    "# File 불러오기\n",
    "tfSample = pd.read_table(\"../Data/new.txt\", header=None)\n",
    "tfSample.tail()"
   ]
  },
  {
   "cell_type": "code",
   "execution_count": null,
   "id": "14d4e467",
   "metadata": {},
   "outputs": [],
   "source": []
  }
 ],
 "metadata": {
  "kernelspec": {
   "display_name": "base",
   "language": "python",
   "name": "python3"
  },
  "language_info": {
   "codemirror_mode": {
    "name": "ipython",
    "version": 3
   },
   "file_extension": ".py",
   "mimetype": "text/x-python",
   "name": "python",
   "nbconvert_exporter": "python",
   "pygments_lexer": "ipython3",
   "version": "3.12.7"
  }
 },
 "nbformat": 4,
 "nbformat_minor": 5
}
