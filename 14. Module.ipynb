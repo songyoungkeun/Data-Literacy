{
 "cells": [
  {
   "cell_type": "markdown",
   "id": "83911c84",
   "metadata": {},
   "source": [
    "### Module\n",
    ": 함수나 변수, 클래스들을 모아 놓은 파일"
   ]
  },
  {
   "cell_type": "code",
   "execution_count": 1,
   "id": "0dd8f8a5",
   "metadata": {},
   "outputs": [
    {
     "name": "stdout",
     "output_type": "stream",
     "text": [
      "7\n"
     ]
    }
   ],
   "source": [
    "import mod1 as md\n",
    "print(md.sum(3,4))"
   ]
  },
  {
   "cell_type": "code",
   "execution_count": 2,
   "id": "ce32103b",
   "metadata": {},
   "outputs": [
    {
     "name": "stdout",
     "output_type": "stream",
     "text": [
      "1\n"
     ]
    }
   ],
   "source": [
    "print(md.sub(4, 3))"
   ]
  },
  {
   "cell_type": "code",
   "execution_count": null,
   "id": "7d588cae",
   "metadata": {},
   "outputs": [],
   "source": []
  }
 ],
 "metadata": {
  "kernelspec": {
   "display_name": "base",
   "language": "python",
   "name": "python3"
  },
  "language_info": {
   "codemirror_mode": {
    "name": "ipython",
    "version": 3
   },
   "file_extension": ".py",
   "mimetype": "text/x-python",
   "name": "python",
   "nbconvert_exporter": "python",
   "pygments_lexer": "ipython3",
   "version": "3.12.7"
  }
 },
 "nbformat": 4,
 "nbformat_minor": 5
}
