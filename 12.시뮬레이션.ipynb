{
 "cells": [
  {
   "cell_type": "markdown",
   "id": "a30eb0cf",
   "metadata": {},
   "source": [
    "### 시뮬레이션(몬테카를로 시뮬리에션)\n",
    ": 자료가 없을 경우 난수를 통해서 증명     \n",
    "\n",
    "#### 동전의 앞면과 뒷면이 나올 확률이 같다는것을 증명"
   ]
  },
  {
   "cell_type": "code",
   "execution_count": 1,
   "id": "3aa3011f",
   "metadata": {},
   "outputs": [],
   "source": [
    "import random"
   ]
  },
  {
   "cell_type": "code",
   "execution_count": 2,
   "id": "cb448fdc",
   "metadata": {},
   "outputs": [
    {
     "data": {
      "text/plain": [
       "7"
      ]
     },
     "execution_count": 2,
     "metadata": {},
     "output_type": "execute_result"
    }
   ],
   "source": [
    "random.randint(1, 10)"
   ]
  },
  {
   "cell_type": "code",
   "execution_count": 31,
   "id": "eb285c3c",
   "metadata": {},
   "outputs": [
    {
     "name": "stdout",
     "output_type": "stream",
     "text": [
      "뒷면\n"
     ]
    }
   ],
   "source": [
    "# 동전 던지기\n",
    "x = random.randint(1,2)\n",
    "if x == 1:\n",
    "    result=\"앞면\"\n",
    "else:\n",
    "    result=\"뒷면\"\n",
    "print(result)"
   ]
  },
  {
   "cell_type": "code",
   "execution_count": 32,
   "id": "ab0b4e0f",
   "metadata": {},
   "outputs": [],
   "source": [
    "def coinF(n):\n",
    "    coinFront = coinRear = 0\n",
    "    for _ in range(1,n+1):\n",
    "        x = random.randint(1,2)\n",
    "        if x == 1:\n",
    "            coinFront += 1\n",
    "        else:\n",
    "            coinRear += 1\n",
    "    print(f\"{n}번 시도시 앞면:{coinFront}, 뒷면:{coinRear}\")"
   ]
  },
  {
   "cell_type": "code",
   "execution_count": 34,
   "id": "7ea28800",
   "metadata": {},
   "outputs": [
    {
     "name": "stdout",
     "output_type": "stream",
     "text": [
      "10번 시도시 앞면:6, 뒷면:4\n",
      "100번 시도시 앞면:53, 뒷면:47\n",
      "1000번 시도시 앞면:487, 뒷면:513\n",
      "10000번 시도시 앞면:5030, 뒷면:4970\n",
      "100000번 시도시 앞면:50001, 뒷면:49999\n",
      "1000000번 시도시 앞면:499461, 뒷면:500539\n"
     ]
    }
   ],
   "source": [
    "coinF(10)\n",
    "coinF(100)\n",
    "coinF(1000)\n",
    "coinF(10000)\n",
    "coinF(100000)\n",
    "coinF(1000000)"
   ]
  },
  {
   "cell_type": "markdown",
   "id": "a1b36647",
   "metadata": {},
   "source": [
    "### 가위, 바위, 보 게임이 이길 확률이 동일하다는 것을 증명"
   ]
  },
  {
   "cell_type": "code",
   "execution_count": 38,
   "id": "e6c9ecc1",
   "metadata": {},
   "outputs": [],
   "source": [
    "# 출력예) 10번 시도시 가위는 3번, 바위는 4번, 보는 3번 입니다. \n",
    "def rock(n):\n",
    "    rock = [0,0,0]\n",
    "    for _ in range(1, n+1):\n",
    "        x = random.randint(1,3)\n",
    "        rock[x-1] += 1\n",
    "    \n",
    "    print(f\"{n}번 시도시 가위는 {rock[0]}번, 바위는 {rock[1]}번, 보는 {rock[2]}번 입니다.\")"
   ]
  },
  {
   "cell_type": "code",
   "execution_count": 39,
   "id": "05856130",
   "metadata": {},
   "outputs": [
    {
     "name": "stdout",
     "output_type": "stream",
     "text": [
      "10번 시도시 가위는 1번, 바위는 2번, 보는 7번 입니다.\n",
      "100번 시도시 가위는 34번, 바위는 40번, 보는 26번 입니다.\n",
      "1000번 시도시 가위는 321번, 바위는 327번, 보는 352번 입니다.\n",
      "10000번 시도시 가위는 3303번, 바위는 3337번, 보는 3360번 입니다.\n",
      "100000번 시도시 가위는 33237번, 바위는 33271번, 보는 33492번 입니다.\n",
      "1000000번 시도시 가위는 333072번, 바위는 333507번, 보는 333421번 입니다.\n"
     ]
    }
   ],
   "source": [
    "rock(10)\n",
    "rock(100)\n",
    "rock(1000)\n",
    "rock(10000)\n",
    "rock(100000)\n",
    "rock(1000000)"
   ]
  },
  {
   "cell_type": "code",
   "execution_count": null,
   "id": "6b6fd3a3",
   "metadata": {},
   "outputs": [],
   "source": []
  }
 ],
 "metadata": {
  "kernelspec": {
   "display_name": "base",
   "language": "python",
   "name": "python3"
  },
  "language_info": {
   "codemirror_mode": {
    "name": "ipython",
    "version": 3
   },
   "file_extension": ".py",
   "mimetype": "text/x-python",
   "name": "python",
   "nbconvert_exporter": "python",
   "pygments_lexer": "ipython3",
   "version": "3.12.7"
  }
 },
 "nbformat": 4,
 "nbformat_minor": 5
}
