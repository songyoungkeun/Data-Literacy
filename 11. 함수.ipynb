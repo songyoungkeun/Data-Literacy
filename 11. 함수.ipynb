{
 "cells": [
  {
   "cell_type": "markdown",
   "id": "27e99692",
   "metadata": {},
   "source": [
    "### 함수"
   ]
  },
  {
   "cell_type": "code",
   "execution_count": 1,
   "id": "bdea732f",
   "metadata": {},
   "outputs": [
    {
     "data": {
      "text/plain": [
       "5"
      ]
     },
     "execution_count": 1,
     "metadata": {},
     "output_type": "execute_result"
    }
   ],
   "source": [
    "# 덧셈\n",
    "3+2"
   ]
  },
  {
   "cell_type": "code",
   "execution_count": 2,
   "id": "3684d3c2",
   "metadata": {},
   "outputs": [
    {
     "data": {
      "text/plain": [
       "5"
      ]
     },
     "execution_count": 2,
     "metadata": {},
     "output_type": "execute_result"
    }
   ],
   "source": [
    "num1 = 3\n",
    "num2 = 2\n",
    "num1 + num2"
   ]
  },
  {
   "cell_type": "code",
   "execution_count": 3,
   "id": "dd7d2bb8",
   "metadata": {},
   "outputs": [],
   "source": [
    "def test2(num1, num2):\n",
    "    return num1 + num2"
   ]
  },
  {
   "cell_type": "code",
   "execution_count": 4,
   "id": "a733df44",
   "metadata": {},
   "outputs": [
    {
     "data": {
      "text/plain": [
       "9"
      ]
     },
     "execution_count": 4,
     "metadata": {},
     "output_type": "execute_result"
    }
   ],
   "source": [
    "test2(5,4)"
   ]
  },
  {
   "cell_type": "markdown",
   "id": "acc1f60b",
   "metadata": {},
   "source": [
    "#### 함수에서 함수를 호출"
   ]
  },
  {
   "cell_type": "code",
   "execution_count": 5,
   "id": "c43a2003",
   "metadata": {},
   "outputs": [],
   "source": [
    "def test3(num1, num2):\n",
    "    x = num1 + 1\n",
    "    y = num2 + 1\n",
    "    return test2(x, y)"
   ]
  },
  {
   "cell_type": "code",
   "execution_count": 6,
   "id": "254bb828",
   "metadata": {},
   "outputs": [
    {
     "data": {
      "text/plain": [
       "32"
      ]
     },
     "execution_count": 6,
     "metadata": {},
     "output_type": "execute_result"
    }
   ],
   "source": [
    "test3(10, 20)"
   ]
  },
  {
   "cell_type": "markdown",
   "id": "fdf87e13",
   "metadata": {},
   "source": [
    "---\n",
    "#### 가변 길이 인수를 가진 함수 (Unpacking 연산자)"
   ]
  },
  {
   "cell_type": "code",
   "execution_count": 7,
   "id": "0231904f",
   "metadata": {},
   "outputs": [],
   "source": [
    "# 여러개의 숫자를 받아 덧셈을 구하는 함수 만들기\n",
    "\n",
    "def sumManyF(*nums):\n",
    "    sum = 0\n",
    "    for i in nums:\n",
    "        sum+=i\n",
    "    return sum"
   ]
  },
  {
   "cell_type": "code",
   "execution_count": 8,
   "id": "ba2e7765",
   "metadata": {},
   "outputs": [
    {
     "data": {
      "text/plain": [
       "6"
      ]
     },
     "execution_count": 8,
     "metadata": {},
     "output_type": "execute_result"
    }
   ],
   "source": [
    "sumManyF(1,2,3)"
   ]
  },
  {
   "cell_type": "code",
   "execution_count": 9,
   "id": "1997b0fc",
   "metadata": {},
   "outputs": [
    {
     "data": {
      "text/plain": [
       "55"
      ]
     },
     "execution_count": 9,
     "metadata": {},
     "output_type": "execute_result"
    }
   ],
   "source": [
    "sumManyF(1,2,3,4,5,6,7,8,9,10)"
   ]
  },
  {
   "cell_type": "code",
   "execution_count": 10,
   "id": "f3dd1bf0",
   "metadata": {},
   "outputs": [],
   "source": [
    "import numpy as np\n",
    "\n",
    "def sumManyF1(*nums):\n",
    "    return np.sum(nums)"
   ]
  },
  {
   "cell_type": "code",
   "execution_count": 11,
   "id": "6dc2a855",
   "metadata": {},
   "outputs": [
    {
     "data": {
      "text/plain": [
       "6"
      ]
     },
     "execution_count": 11,
     "metadata": {},
     "output_type": "execute_result"
    }
   ],
   "source": [
    "sumManyF1(1,2,3)"
   ]
  },
  {
   "cell_type": "code",
   "execution_count": 12,
   "id": "7d2534b4",
   "metadata": {},
   "outputs": [
    {
     "data": {
      "text/plain": [
       "55"
      ]
     },
     "execution_count": 12,
     "metadata": {},
     "output_type": "execute_result"
    }
   ],
   "source": [
    "sumManyF1(1,2,3,4,5,6,7,8,9,10)"
   ]
  },
  {
   "cell_type": "code",
   "execution_count": 13,
   "id": "1d1eec44",
   "metadata": {},
   "outputs": [],
   "source": [
    "# Ex\n",
    "def gugu(dan):\n",
    "    for i in range(1,9+1):\n",
    "        print(f\"{dan} X {i} = {dan*i}\")"
   ]
  },
  {
   "cell_type": "code",
   "execution_count": 14,
   "id": "f43cb5ba",
   "metadata": {},
   "outputs": [
    {
     "name": "stdout",
     "output_type": "stream",
     "text": [
      "5 X 1 = 5\n",
      "5 X 2 = 10\n",
      "5 X 3 = 15\n",
      "5 X 4 = 20\n",
      "5 X 5 = 25\n",
      "5 X 6 = 30\n",
      "5 X 7 = 35\n",
      "5 X 8 = 40\n",
      "5 X 9 = 45\n"
     ]
    }
   ],
   "source": [
    "gugu(5)"
   ]
  },
  {
   "cell_type": "code",
   "execution_count": 15,
   "id": "ee95067c",
   "metadata": {},
   "outputs": [],
   "source": [
    "def gugu2(dan, num):\n",
    "    for i in dan:\n",
    "        for j in num:\n",
    "            print(f\"{i} X {j} = {i*j}\")\n",
    "        print(\"-\" * 10)"
   ]
  },
  {
   "cell_type": "code",
   "execution_count": 16,
   "id": "27839786",
   "metadata": {},
   "outputs": [
    {
     "name": "stdout",
     "output_type": "stream",
     "text": [
      "2 X 6 = 12\n",
      "2 X 7 = 14\n",
      "2 X 8 = 16\n",
      "2 X 9 = 18\n",
      "----------\n",
      "5 X 6 = 30\n",
      "5 X 7 = 35\n",
      "5 X 8 = 40\n",
      "5 X 9 = 45\n",
      "----------\n",
      "8 X 6 = 48\n",
      "8 X 7 = 56\n",
      "8 X 8 = 64\n",
      "8 X 9 = 72\n",
      "----------\n"
     ]
    }
   ],
   "source": [
    "dan = [2,5,8]\n",
    "num = [6,7,8,9]\n",
    "\n",
    "gugu2(dan, num)\n"
   ]
  },
  {
   "cell_type": "markdown",
   "id": "ca03a445",
   "metadata": {},
   "source": [
    "#### 덧셈 기능과 곱셈 기능을 구분하여 숫자의 결과를 보여주는 함수 "
   ]
  },
  {
   "cell_type": "code",
   "execution_count": 17,
   "id": "05bfbb64",
   "metadata": {},
   "outputs": [],
   "source": [
    "def sum_mulF(choice,*inputValue):\n",
    "    if choice == \"sum\":\n",
    "        result = 0\n",
    "        for i in inputValue:\n",
    "            result += i\n",
    "    elif choice == \"mul\":\n",
    "        result = 1\n",
    "        for i in inputValue:\n",
    "            result *= i\n",
    "    else:\n",
    "        result = \"I don't know.\"\n",
    "        \n",
    "    return result"
   ]
  },
  {
   "cell_type": "code",
   "execution_count": 18,
   "id": "d0d02576",
   "metadata": {},
   "outputs": [
    {
     "name": "stdout",
     "output_type": "stream",
     "text": [
      "15\n"
     ]
    }
   ],
   "source": [
    "result = sum_mulF('sum',1,2,3,4,5)\n",
    "print(result)"
   ]
  },
  {
   "cell_type": "code",
   "execution_count": 19,
   "id": "0cf23ddf",
   "metadata": {},
   "outputs": [
    {
     "name": "stdout",
     "output_type": "stream",
     "text": [
      "6\n"
     ]
    }
   ],
   "source": [
    "result = sum_mulF('mul',1,2,3)\n",
    "print(result)"
   ]
  },
  {
   "cell_type": "code",
   "execution_count": 20,
   "id": "9a71edf0",
   "metadata": {},
   "outputs": [
    {
     "name": "stdout",
     "output_type": "stream",
     "text": [
      "I don't know.\n"
     ]
    }
   ],
   "source": [
    "result = sum_mulF('aaa',1,2,3)\n",
    "print(result)"
   ]
  },
  {
   "cell_type": "code",
   "execution_count": 21,
   "id": "a6320a7e",
   "metadata": {},
   "outputs": [],
   "source": [
    "def sum_mulF1(choice,inputValue):\n",
    "    if choice == \"sum\":\n",
    "        result = 0\n",
    "        for i in inputValue:\n",
    "            result += i\n",
    "        return result\n",
    "    elif choice == \"mul\":\n",
    "        result = 1\n",
    "        for i in inputValue:\n",
    "            result *= i\n",
    "    else:\n",
    "        result = \"I don't know.\"\n",
    "        "
   ]
  },
  {
   "cell_type": "code",
   "execution_count": 22,
   "id": "ac49c83d",
   "metadata": {},
   "outputs": [
    {
     "name": "stdout",
     "output_type": "stream",
     "text": [
      "15\n"
     ]
    }
   ],
   "source": [
    "result = sum_mulF1('sum',[1,2,3,4,5])\n",
    "print(result)"
   ]
  },
  {
   "cell_type": "code",
   "execution_count": 23,
   "id": "c27ccd00",
   "metadata": {},
   "outputs": [
    {
     "data": {
      "text/plain": [
       "[1, 2, 3, 4, 5]"
      ]
     },
     "execution_count": 23,
     "metadata": {},
     "output_type": "execute_result"
    }
   ],
   "source": [
    "list((1,2,3,4,5))"
   ]
  },
  {
   "cell_type": "code",
   "execution_count": 24,
   "id": "8fe22996",
   "metadata": {},
   "outputs": [
    {
     "name": "stdout",
     "output_type": "stream",
     "text": [
      "15\n"
     ]
    }
   ],
   "source": [
    "result = sum_mulF1('sum',list((1,2,3,4,5)))\n",
    "print(result)"
   ]
  },
  {
   "cell_type": "markdown",
   "id": "f2f97bce",
   "metadata": {},
   "source": [
    "----\n",
    "return문은 결과값이 항상 하나이다.     \n",
    "return문을 2개 이상 사용했을 경우에는 맨 처음 return문만 실행한다.  "
   ]
  },
  {
   "cell_type": "code",
   "execution_count": 25,
   "id": "0f62798c",
   "metadata": {},
   "outputs": [],
   "source": [
    "def sum_mul(a,b):\n",
    "    return a + b\n",
    "    return a * b"
   ]
  },
  {
   "cell_type": "code",
   "execution_count": 26,
   "id": "eab759ae",
   "metadata": {},
   "outputs": [
    {
     "data": {
      "text/plain": [
       "7"
      ]
     },
     "execution_count": 26,
     "metadata": {},
     "output_type": "execute_result"
    }
   ],
   "source": [
    "sum_mul(3,4)"
   ]
  },
  {
   "cell_type": "code",
   "execution_count": 27,
   "id": "6df60593",
   "metadata": {},
   "outputs": [],
   "source": [
    "# 2개 이상의 결과값을 출력하려면 Tuple을 사용한다. \n",
    "def sum_mul(a, b):\n",
    "    return a+b, a*b"
   ]
  },
  {
   "cell_type": "code",
   "execution_count": 28,
   "id": "7c497e98",
   "metadata": {},
   "outputs": [
    {
     "data": {
      "text/plain": [
       "(7, 12)"
      ]
     },
     "execution_count": 28,
     "metadata": {},
     "output_type": "execute_result"
    }
   ],
   "source": [
    "sum_mul(3,4)"
   ]
  },
  {
   "cell_type": "code",
   "execution_count": 29,
   "id": "7bddf02e",
   "metadata": {},
   "outputs": [
    {
     "name": "stdout",
     "output_type": "stream",
     "text": [
      "7\n",
      "12\n"
     ]
    }
   ],
   "source": [
    "return_sum, return_mul = sum_mul(3,4)\n",
    "print(return_sum)\n",
    "print(return_mul)"
   ]
  },
  {
   "cell_type": "code",
   "execution_count": 30,
   "id": "50a5db09",
   "metadata": {},
   "outputs": [
    {
     "data": {
      "text/plain": [
       "7"
      ]
     },
     "execution_count": 30,
     "metadata": {},
     "output_type": "execute_result"
    }
   ],
   "source": [
    "sum_mul(3,4)[0]"
   ]
  },
  {
   "cell_type": "code",
   "execution_count": 31,
   "id": "2755f68f",
   "metadata": {},
   "outputs": [],
   "source": [
    "# Ex : Tuple을 사용한 덧셈,뺄셈,곱셈,나눗셈을 한번에 return하기\n",
    "def calcAll(num1, num2):\n",
    "    return num1+num2, num1-num2, num1*num2, \\\n",
    "            \"0으로 나눌수 없음\" if num2 == 0 else num1 / num2 "
   ]
  },
  {
   "cell_type": "code",
   "execution_count": 32,
   "id": "cc88d4ab",
   "metadata": {},
   "outputs": [
    {
     "name": "stdout",
     "output_type": "stream",
     "text": [
      "덧셈 결과 : 2\n",
      "뺄셈 결과 : 2\n",
      "곱셈 결과 : 0\n",
      "나눗셈 결과 : 0으로 나눌수 없음\n"
     ]
    }
   ],
   "source": [
    "addResult, subResult, mulResult, divResult = calcAll(2,0)\n",
    "print(f\"덧셈 결과 : {addResult}\")\n",
    "print(f\"뺄셈 결과 : {subResult}\")\n",
    "print(f\"곱셈 결과 : {mulResult}\")\n",
    "print(f\"나눗셈 결과 : {divResult}\")"
   ]
  },
  {
   "cell_type": "markdown",
   "id": "4641421d",
   "metadata": {},
   "source": [
    "---\n",
    "### 함수에 초기값(기본값) 설정하기"
   ]
  },
  {
   "cell_type": "code",
   "execution_count": 33,
   "id": "d4efcc13",
   "metadata": {},
   "outputs": [],
   "source": [
    "def say_myself(name, age, gender=True):\n",
    "    print(f\"나의 이름은 {name} 입니다.\")\n",
    "    print(f\"나이는 {age}살 입니다.\")\n",
    "    print(f\"{\"남자\" if gender else \"여자\"} 입니다.\")\n"
   ]
  },
  {
   "cell_type": "code",
   "execution_count": 34,
   "id": "d373f475",
   "metadata": {},
   "outputs": [
    {
     "name": "stdout",
     "output_type": "stream",
     "text": [
      "나의 이름은 유비 입니다.\n",
      "나이는 30살 입니다.\n",
      "남자 입니다.\n"
     ]
    }
   ],
   "source": [
    "say_myself(\"유비\", 30)"
   ]
  },
  {
   "cell_type": "code",
   "execution_count": 35,
   "id": "ba72eefb",
   "metadata": {},
   "outputs": [
    {
     "name": "stdout",
     "output_type": "stream",
     "text": [
      "나의 이름은 관우 입니다.\n",
      "나이는 30살 입니다.\n",
      "남자 입니다.\n"
     ]
    }
   ],
   "source": [
    "say_myself(\"관우\", 30, True)"
   ]
  },
  {
   "cell_type": "code",
   "execution_count": 36,
   "id": "a0b2f33b",
   "metadata": {},
   "outputs": [
    {
     "name": "stdout",
     "output_type": "stream",
     "text": [
      "나의 이름은 초선 입니다.\n",
      "나이는 20살 입니다.\n",
      "여자 입니다.\n"
     ]
    }
   ],
   "source": [
    "say_myself(\"초선\", 20, False)"
   ]
  },
  {
   "cell_type": "code",
   "execution_count": 37,
   "id": "5f28aa04",
   "metadata": {},
   "outputs": [],
   "source": [
    "# Ex : 구구단에서 곱해지는 수가 짝수인 경우에만 출력하기\n",
    "def guguDan(dan):\n",
    "    for i in range(2,8+1,2):\n",
    "        print(f\"{dan} X {i} = {dan*i}\")"
   ]
  },
  {
   "cell_type": "code",
   "execution_count": null,
   "id": "32b18360",
   "metadata": {},
   "outputs": [
    {
     "name": "stdout",
     "output_type": "stream",
     "text": [
      "4 X 2 = 8\n",
      "4 X 4 = 16\n",
      "4 X 6 = 24\n",
      "4 X 8 = 32\n"
     ]
    }
   ],
   "source": [
    "guguDan(4)"
   ]
  },
  {
   "cell_type": "code",
   "execution_count": 40,
   "id": "97dfbb72",
   "metadata": {},
   "outputs": [],
   "source": [
    "# Ex : 구구단에서 시작 단과 끝단을 정해 출력하는 함수\n",
    "def guguDan2(dan1, dan2):\n",
    "    for dan in range(dan1, dan2+1):\n",
    "        print(f\"----{dan}단---\")\n",
    "        for i in range(1,9+1):\n",
    "            print(f\"{dan} X {i} = {dan*i}\")"
   ]
  },
  {
   "cell_type": "code",
   "execution_count": 41,
   "id": "4573b42a",
   "metadata": {},
   "outputs": [
    {
     "name": "stdout",
     "output_type": "stream",
     "text": [
      "----2단---\n",
      "2 X 1 = 2\n",
      "2 X 2 = 4\n",
      "2 X 3 = 6\n",
      "2 X 4 = 8\n",
      "2 X 5 = 10\n",
      "2 X 6 = 12\n",
      "2 X 7 = 14\n",
      "2 X 8 = 16\n",
      "2 X 9 = 18\n",
      "----3단---\n",
      "3 X 1 = 3\n",
      "3 X 2 = 6\n",
      "3 X 3 = 9\n",
      "3 X 4 = 12\n",
      "3 X 5 = 15\n",
      "3 X 6 = 18\n",
      "3 X 7 = 21\n",
      "3 X 8 = 24\n",
      "3 X 9 = 27\n",
      "----4단---\n",
      "4 X 1 = 4\n",
      "4 X 2 = 8\n",
      "4 X 3 = 12\n",
      "4 X 4 = 16\n",
      "4 X 5 = 20\n",
      "4 X 6 = 24\n",
      "4 X 7 = 28\n",
      "4 X 8 = 32\n",
      "4 X 9 = 36\n",
      "----5단---\n",
      "5 X 1 = 5\n",
      "5 X 2 = 10\n",
      "5 X 3 = 15\n",
      "5 X 4 = 20\n",
      "5 X 5 = 25\n",
      "5 X 6 = 30\n",
      "5 X 7 = 35\n",
      "5 X 8 = 40\n",
      "5 X 9 = 45\n"
     ]
    }
   ],
   "source": [
    "guguDan2(2, 5)"
   ]
  },
  {
   "cell_type": "code",
   "execution_count": 43,
   "id": "a7218c35",
   "metadata": {},
   "outputs": [],
   "source": [
    "# Ex : 해당단의 곱해지는 수의 범위의 결과만 출력하는 함수\n",
    "def guguDan3(dan, start, end):\n",
    "    for i in range(start, end+1):\n",
    "        print(f\"{dan} X {i} = {dan*i}\")\n"
   ]
  },
  {
   "cell_type": "code",
   "execution_count": 44,
   "id": "0f671886",
   "metadata": {},
   "outputs": [
    {
     "name": "stdout",
     "output_type": "stream",
     "text": [
      "2 X 5 = 10\n",
      "2 X 6 = 12\n",
      "2 X 7 = 14\n",
      "2 X 8 = 16\n",
      "2 X 9 = 18\n"
     ]
    }
   ],
   "source": [
    "guguDan3(2, 5, 9) # 2단의 곱해지는 수는 5부터 9까지\n"
   ]
  },
  {
   "cell_type": "code",
   "execution_count": 45,
   "id": "16bdd4c9",
   "metadata": {},
   "outputs": [],
   "source": [
    "# Ex: guguDan3함수에서 곱해지는 수가 짝수일 경우에만 출력\n",
    "def guguDan3(dan, start, end):\n",
    "    for i in range(start, end+1):\n",
    "        if i % 2 == 0:\n",
    "            print(f\"{dan} X {i} = {dan*i}\")\n"
   ]
  },
  {
   "cell_type": "code",
   "execution_count": 46,
   "id": "1bc6af7b",
   "metadata": {},
   "outputs": [
    {
     "name": "stdout",
     "output_type": "stream",
     "text": [
      "2 X 6 = 12\n",
      "2 X 8 = 16\n"
     ]
    }
   ],
   "source": [
    "guguDan3(2, 5, 9) "
   ]
  },
  {
   "cell_type": "code",
   "execution_count": 47,
   "id": "b9b675e0",
   "metadata": {},
   "outputs": [],
   "source": [
    "# Ex : 원의 면적과 둘레를 구하는 함수\n",
    "# 원의 면적 : pi*r**2, 둘레 : 2*pi*r\n",
    "import math\n",
    "def circle_area_length(r):\n",
    "    return math.pi * r**2, 2 * math.pi * r\n"
   ]
  },
  {
   "cell_type": "code",
   "execution_count": 48,
   "id": "1b1604f7",
   "metadata": {},
   "outputs": [
    {
     "name": "stdout",
     "output_type": "stream",
     "text": [
      "원의 면적 : 78.53981633974483, 원의 둘레 : 31.41592653589793\n"
     ]
    }
   ],
   "source": [
    "area, length = circle_area_length(5)\n",
    "print(f\"원의 면적 : {area}, 원의 둘레 : {length}\")"
   ]
  },
  {
   "cell_type": "markdown",
   "id": "58dee957",
   "metadata": {},
   "source": [
    "---\n",
    "### 람다(lambda)함수\n",
    "- 함수를 간결하게 만들때 사용\n",
    "- def, return이 없음"
   ]
  },
  {
   "cell_type": "code",
   "execution_count": 49,
   "id": "268f8afa",
   "metadata": {},
   "outputs": [],
   "source": [
    "# 일반함수\n",
    "def addFunction(num1, num2):\n",
    "    sum = num1 + num2\n",
    "    return sum"
   ]
  },
  {
   "cell_type": "code",
   "execution_count": 50,
   "id": "4faa5dd1",
   "metadata": {},
   "outputs": [
    {
     "data": {
      "text/plain": [
       "30"
      ]
     },
     "execution_count": 50,
     "metadata": {},
     "output_type": "execute_result"
    }
   ],
   "source": [
    "addFunction(10, 20)"
   ]
  },
  {
   "cell_type": "code",
   "execution_count": 51,
   "id": "e96c9b22",
   "metadata": {},
   "outputs": [
    {
     "data": {
      "text/plain": [
       "30"
      ]
     },
     "execution_count": 51,
     "metadata": {},
     "output_type": "execute_result"
    }
   ],
   "source": [
    "# Lambda 함수\n",
    "addLambda = lambda num1, num2 : num1 + num2\n",
    "addLambda(10, 20)"
   ]
  },
  {
   "cell_type": "code",
   "execution_count": null,
   "id": "0bc18b65",
   "metadata": {},
   "outputs": [],
   "source": []
  }
 ],
 "metadata": {
  "kernelspec": {
   "display_name": "base",
   "language": "python",
   "name": "python3"
  },
  "language_info": {
   "codemirror_mode": {
    "name": "ipython",
    "version": 3
   },
   "file_extension": ".py",
   "mimetype": "text/x-python",
   "name": "python",
   "nbconvert_exporter": "python",
   "pygments_lexer": "ipython3",
   "version": "3.12.7"
  }
 },
 "nbformat": 4,
 "nbformat_minor": 5
}
