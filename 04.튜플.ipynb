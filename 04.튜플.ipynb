{
 "cells": [
  {
   "cell_type": "markdown",
   "id": "05a0d1a9",
   "metadata": {},
   "source": [
    "### 복습"
   ]
  },
  {
   "cell_type": "code",
   "execution_count": null,
   "id": "36b22b16",
   "metadata": {},
   "outputs": [
    {
     "name": "stdout",
     "output_type": "stream",
     "text": [
      "[1, 2.3, 'Apple']\n",
      "1\n",
      "Apple\n",
      "Apple\n",
      "[10, 2.3, 'Apple']\n",
      "[2.3, 'Apple']\n",
      "[2.3, 'Apple', 100]\n"
     ]
    }
   ],
   "source": [
    "# 리스트 : List로 C(reate)R(ead)U(pdate)D(elete) 해보기\n",
    "\n",
    "# 검색\n",
    "var01 = [1, 2.3, \"Apple\"]\n",
    "print(var01)\n",
    "print(var01[0])\n",
    "print(var01[2])\n",
    "print(var01[-1])\n",
    "\n",
    "# 수정\n",
    "var01[0] = 10\n",
    "print(var01)\n",
    "\n",
    "# 삭제\n",
    "del var01[0]\n",
    "print(var01)\n",
    "\n",
    "# 입력\n",
    "var01.append(100)\n",
    "print(var01)"
   ]
  },
  {
   "cell_type": "markdown",
   "id": "fc00cf21",
   "metadata": {},
   "source": [
    "---\n",
    "### 튜플(Tuple) 자료형\n",
    ": 튜플은 다음과 같은 점을 제외하면 리스트와 동일하다.       \n",
    "- 생성할때 (,)를 사용 \n",
    "- 리스트는 데이터를 생성, 삭제, 수정이 가능하지만 튜플은 변경(수정, 삭제, 추가) 불가이다. \n",
    "- 한번 생성된 데이터가 변경되는 것을 막고자 하면 튜플을 사용한다.  "
   ]
  },
  {
   "cell_type": "code",
   "execution_count": 16,
   "id": "a615525d",
   "metadata": {},
   "outputs": [],
   "source": [
    "# Tuple 생성\n",
    "var01 = ()\n",
    "var02 = (2,) # data가 하나여도 반드시 ,를 붙인다. \n",
    "var03 = (1,2,3)\n",
    "var04 = 1,2,3\n",
    "var05 = ('a', 'b', ('ab', 'cd'))\n"
   ]
  },
  {
   "cell_type": "code",
   "execution_count": 21,
   "id": "9345ff62",
   "metadata": {},
   "outputs": [
    {
     "name": "stdout",
     "output_type": "stream",
     "text": [
      "ab\n",
      "ab\n"
     ]
    }
   ],
   "source": [
    "# var05에서 'ab'를 추출\n",
    "print(var05[2][0])\n",
    "print(var05[-1][0])"
   ]
  },
  {
   "cell_type": "code",
   "execution_count": 24,
   "id": "4cb77f58",
   "metadata": {},
   "outputs": [],
   "source": [
    "# 변경 해보기\n",
    "# var05[0] = 'x' # 변경 불가 "
   ]
  },
  {
   "cell_type": "markdown",
   "id": "03a7c2b0",
   "metadata": {},
   "source": [
    "### Tuple의 값 변경\n",
    ": Tuple에 List를 추가하여 사용"
   ]
  },
  {
   "cell_type": "code",
   "execution_count": 30,
   "id": "2c870369",
   "metadata": {},
   "outputs": [
    {
     "name": "stdout",
     "output_type": "stream",
     "text": [
      "([1, 2], 3, 4)\n",
      "([100, 2], 3, 4)\n"
     ]
    }
   ],
   "source": [
    "tuple01 = [1,2],3,4\n",
    "print(tuple01)\n",
    "tuple01[0][0] = 100\n",
    "print(tuple01)"
   ]
  },
  {
   "cell_type": "code",
   "execution_count": 26,
   "id": "fa21c0a8",
   "metadata": {},
   "outputs": [
    {
     "data": {
      "text/plain": [
       "tuple"
      ]
     },
     "execution_count": 26,
     "metadata": {},
     "output_type": "execute_result"
    }
   ],
   "source": [
    "type(tuple01)"
   ]
  },
  {
   "cell_type": "code",
   "execution_count": 33,
   "id": "c4ea6886",
   "metadata": {},
   "outputs": [
    {
     "name": "stdout",
     "output_type": "stream",
     "text": [
      "(1, 2, 3)\n",
      "[1, 2, 3]\n",
      "(1, 2, 3)\n"
     ]
    }
   ],
   "source": [
    "tuple02 = 1,2,3\n",
    "print(tuple02)\n",
    "\n",
    "list02 = list(tuple02)\n",
    "print(list02)\n",
    "\n",
    "tuple03 = tuple(list02)\n",
    "print(tuple03)"
   ]
  },
  {
   "cell_type": "code",
   "execution_count": null,
   "id": "e73ee13f",
   "metadata": {},
   "outputs": [],
   "source": []
  }
 ],
 "metadata": {
  "kernelspec": {
   "display_name": "base",
   "language": "python",
   "name": "python3"
  },
  "language_info": {
   "codemirror_mode": {
    "name": "ipython",
    "version": 3
   },
   "file_extension": ".py",
   "mimetype": "text/x-python",
   "name": "python",
   "nbconvert_exporter": "python",
   "pygments_lexer": "ipython3",
   "version": "3.12.7"
  }
 },
 "nbformat": 4,
 "nbformat_minor": 5
}
